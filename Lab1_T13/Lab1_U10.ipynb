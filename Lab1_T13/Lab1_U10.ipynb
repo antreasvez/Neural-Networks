{
  "nbformat": 4,
  "nbformat_minor": 5,
  "metadata": {
    "kernelspec": {
      "display_name": "Python 3 (ipykernel)",
      "language": "python",
      "name": "python3"
    },
    "language_info": {
      "codemirror_mode": {
        "name": "ipython",
        "version": 3
      },
      "file_extension": ".py",
      "mimetype": "text/x-python",
      "name": "python",
      "nbconvert_exporter": "python",
      "pygments_lexer": "ipython3",
      "version": "3.8.10"
    },
    "colab": {
      "name": "Lab1_U10.ipynb",
      "provenance": [],
      "collapsed_sections": [],
      "toc_visible": true
    }
  },
  "cells": [
    {
      "cell_type": "markdown",
      "metadata": {
        "id": "F1Uo4R_kRVy_"
      },
      "source": [
        "* Παναγιώτης Ζευγολατάκος 03117804\n",
        "* Χατζηθεοδώρου Ιάσων 03117089\n",
        "* Ανδρέας Βεζάκης 03117186"
      ],
      "id": "F1Uo4R_kRVy_"
    },
    {
      "cell_type": "markdown",
      "metadata": {
        "id": "f087f2bc"
      },
      "source": [
        "# Πρώτη Άσκηση"
      ],
      "id": "f087f2bc"
    },
    {
      "cell_type": "code",
      "metadata": {
        "colab": {
          "base_uri": "https://localhost:8080/"
        },
        "id": "EozrsrNZI5OZ",
        "outputId": "9280cdb8-ef8d-41e2-e524-be7349f2a1df"
      },
      "source": [
        "from google.colab import drive\n",
        "drive.mount('/content/drive')"
      ],
      "id": "EozrsrNZI5OZ",
      "execution_count": null,
      "outputs": [
        {
          "output_type": "stream",
          "name": "stdout",
          "text": [
            "Mounted at /content/drive\n"
          ]
        }
      ]
    },
    {
      "cell_type": "markdown",
      "metadata": {
        "id": "3d3e9124"
      },
      "source": [
        "## Εισαγωγή βιβλιοθηκών"
      ],
      "id": "3d3e9124"
    },
    {
      "cell_type": "code",
      "metadata": {
        "id": "176971bb"
      },
      "source": [
        "from io import StringIO\n",
        "import numpy as np\n",
        "import seaborn as sns\n",
        "import pandas as pd\n",
        "import matplotlib.pyplot as plt\n",
        "import seaborn as sns\n",
        "import sklearn as sk\n",
        "from sklearn.impute import SimpleImputer\n",
        "from sklearn.preprocessing import LabelEncoder\n",
        "from sklearn.model_selection import train_test_split,RandomizedSearchCV,cross_validate,learning_curve\n",
        "from sklearn.model_selection import GridSearchCV\n",
        "from sklearn.svm import SVC,LinearSVC\n",
        "from sklearn.linear_model import LogisticRegression\n",
        "from sklearn.naive_bayes import GaussianNB\n",
        "from sklearn.neighbors import KNeighborsClassifier\n",
        "from sklearn.neural_network import MLPClassifier\n",
        "from sklearn.dummy import DummyClassifier\n",
        "from sklearn.pipeline import make_pipeline\n",
        "from sklearn.decomposition import PCA\n",
        "from sklearn.preprocessing import StandardScaler, RobustScaler, MinMaxScaler\n",
        "from sklearn.metrics import f1_score, accuracy_score, confusion_matrix, classification_report, roc_curve\n",
        "from sklearn.ensemble import RandomForestClassifier\n",
        "import plotly.express as px\n",
        "from sklearn.utils._testing import ignore_warnings\n",
        "from sklearn.exceptions import ConvergenceWarning"
      ],
      "id": "176971bb",
      "execution_count": null,
      "outputs": []
    },
    {
      "cell_type": "markdown",
      "metadata": {
        "id": "123d283c"
      },
      "source": [
        "## Εισαγωγή δεδομένων"
      ],
      "id": "123d283c"
    },
    {
      "cell_type": "code",
      "metadata": {
        "colab": {
          "base_uri": "https://localhost:8080/"
        },
        "id": "eb29b641",
        "outputId": "215a2156-3b2e-418e-c6fc-423ba1d2c0ed"
      },
      "source": [
        "# read data into a DataFrame\n",
        "data = pd.read_csv('/content/drive/MyDrive/Lab1/xaa.dat', sep=\"\\s+\", header=None)\n",
        "\n",
        "for letter in 'bcdefghi':\n",
        "    temp = pd.read_csv('/content/drive/MyDrive/Lab1/xa' + letter + '.dat', sep=\"\\s+\", header=None)\n",
        "    data = pd.concat([data, temp], ignore_index=True)\n",
        "    \n",
        "data.name = 'data'\n",
        "data.columns = ['Compactness', 'Circularity', 'Dist. Circ.', 'Rad. Ratio', 'Pr. Axis Asp. Ratio', 'Max. Len. Asp. Ratio', 'Scatter Ratio', 'Elongatedness', 'Pr. Axis Rect.', 'Max. Len. Rect.', 'Scaled Var. Maj. Ax.', 'Scaled Var Min. Ax.', 'Scaled Rad. Gyr.', 'Skew. Maj. Axis', 'Skew. Min. Axis.', 'Kurt. Min. Axis', 'Kurt. Maj. Axis', 'Hollows Ratio', 'Result']  \n",
        "print(data)"
      ],
      "id": "eb29b641",
      "execution_count": null,
      "outputs": [
        {
          "output_type": "stream",
          "name": "stdout",
          "text": [
            "     Compactness  Circularity  ...  Hollows Ratio  Result\n",
            "0             95           48  ...            197     van\n",
            "1             91           41  ...            199     van\n",
            "2            104           50  ...            196    saab\n",
            "3             93           41  ...            207     van\n",
            "4             85           44  ...            183     bus\n",
            "..           ...          ...  ...            ...     ...\n",
            "841           93           39  ...            195    saab\n",
            "842           89           46  ...            197     van\n",
            "843          106           54  ...            201    saab\n",
            "844           86           36  ...            195    saab\n",
            "845           85           36  ...            190     van\n",
            "\n",
            "[846 rows x 19 columns]\n"
          ]
        }
      ]
    },
    {
      "cell_type": "markdown",
      "metadata": {
        "id": "525b559b"
      },
      "source": [
        "## Παρουσίαση Dataset\n",
        "\n",
        "Το παρόν dataset προέρχεται από το ινστιτούτο Turing στη Γλασκόβη, Σκωτία. Τα δεδομένα που περιέχει συγκεντρώθηκαν στο ινστιτούτο το 1986-87 και ο αρχικός σκοπός ήταν να βρεθεί μέθοδος διαφοροποίησης μεταξύ τρισδιάστατων αντικειμένων σε μία δισδιάστατη φωτογραφία εφαρμόζοντας ένα σύνολο εξαγωγών χαρακτηριστικών σχήματος (shape feature extractors) στις δισδιάτατες σιλουέτες των αντικειμένων.\n",
        "\n",
        "Το dataset περιέχει 846 δείγματα από 4 είδη οχημάτων:\n",
        "- 2 αυτοκινήτα\n",
        "    - SAAB\n",
        "    - Opel\n",
        "- βαν \n",
        "- λεωφορεία\n",
        "\n",
        "και περιέχει 18 χαρακτηριστικά για το καθένα:\n",
        "- Compactness\n",
        "- Circularity\n",
        "- Distance Circularity\n",
        "- Radius Ratio\n",
        "- Pr. Axis Aspect Ratio\n",
        "- Max. Length Aspect Ratio\n",
        "- Scatter Ratio\n",
        "- Elongatedness\n",
        "- Pr. Axis Rectangularity\n",
        "- Max. Length Rectangularity\n",
        "- Scaled Variance along Major Axis\n",
        "- Scaled Variance along Minor Axis\n",
        "- Scaled Radiusn of Gyration\n",
        "- Skewness about Major Axis\n",
        "- Skewness about Minor Axis\n",
        "- Kurtosis about Minor Axis\n",
        "- Kurtosis about Major Axis\n",
        "- Hollows Ratio\n",
        "\n",
        "τα οποία βρίσκονται στις πρώτες 18 κολώνες, ενώ στη 19η βρίσκεται το είδος του οχήματος.\n",
        "\n",
        "\n",
        "Δε χρειάστηκε να γίνει μετατροπή στα αρχεία για την εισαγωγή τους.\n",
        "\n",
        "Δεν υπήρχαν επικεφαλίδες, αρίθμηση γραμμών ή ετικέτες των κλάσεων.\n",
        "\n",
        "\n"
      ],
      "id": "525b559b"
    },
    {
      "cell_type": "code",
      "metadata": {
        "colab": {
          "base_uri": "https://localhost:8080/"
        },
        "id": "5MOJP8Zgojvg",
        "outputId": "cf6f7bd3-2772-45e2-a4c3-784bc2f053e6"
      },
      "source": [
        "data['Result'].value_counts()"
      ],
      "id": "5MOJP8Zgojvg",
      "execution_count": null,
      "outputs": [
        {
          "output_type": "execute_result",
          "data": {
            "text/plain": [
              "bus     218\n",
              "saab    217\n",
              "opel    212\n",
              "van     199\n",
              "Name: Result, dtype: int64"
            ]
          },
          "metadata": {},
          "execution_count": 39
        }
      ]
    },
    {
      "cell_type": "markdown",
      "metadata": {
        "id": "gPDePLvtolxb"
      },
      "source": [
        "Υπάρχουν 4 κλάσεις, τα 4 είδη οχημάτων:\n",
        "- opel (218 δείγματα - 25.77%)\n",
        "- saab (217 δείγματα - 25.65%)\n",
        "- bus  (212 δείγματα - 25.06%)\n",
        "- van  (199 δείγματα - 23.52%)\n",
        "\n",
        "Δε χρειάζεται να γίνει κάποιο sampling."
      ],
      "id": "gPDePLvtolxb"
    },
    {
      "cell_type": "markdown",
      "metadata": {
        "id": "c807091a"
      },
      "source": [
        "## Εύρερη απουσιάζουσων τιμών"
      ],
      "id": "c807091a"
    },
    {
      "cell_type": "code",
      "metadata": {
        "colab": {
          "base_uri": "https://localhost:8080/",
          "height": 336
        },
        "id": "7dbfe487",
        "outputId": "10205bff-6036-4704-e6a7-56e2a09d96eb"
      },
      "source": [
        "# NaN occurences in vehicles.occutc\n",
        "def count_nan(df, col):\n",
        "    return df[col].isnull().sum()\n",
        "\n",
        "def calculate_nan_per_column(df):\n",
        "    keys = []\n",
        "    values = []\n",
        "    for k in df.keys():\n",
        "        keys.append(k)\n",
        "        values.append(count_nan(df, k) / df.shape[0] * 100)\n",
        "    return keys, values\n",
        "\n",
        "titles = ['characteristics', 'places', 'drivers', 'vehicles']\n",
        "\n",
        "features, nans = calculate_nan_per_column(data)\n",
        "fig, ax = plt.subplots(nrows=1, ncols=1, figsize=(5, 5))\n",
        "\n",
        "for idx in range(0, 19):\n",
        "    ax.barh(features[idx], nans[idx])\n",
        "    ax.title.set_text('Missing Values')\n",
        "\n",
        "plt.show()"
      ],
      "id": "7dbfe487",
      "execution_count": null,
      "outputs": [
        {
          "output_type": "display_data",
          "data": {
            "image/png": "[encoded data removed]",
            "text/plain": [
              "<Figure size 360x360 with 1 Axes>"
            ]
          },
          "metadata": {
            "needs_background": "light"
          }
        }
      ]
    },
    {
      "cell_type": "markdown",
      "metadata": {
        "id": "00bbe74a"
      },
      "source": [
        "Όπως βλέπουμε παραπάνω δε λείπει καμία τιμή."
      ],
      "id": "00bbe74a"
    },
    {
      "cell_type": "markdown",
      "metadata": {
        "id": "M-vuiQA9jsnm"
      },
      "source": [
        "## Προεπεξεργασία"
      ],
      "id": "M-vuiQA9jsnm"
    },
    {
      "cell_type": "code",
      "metadata": {
        "id": "WpTKYJSFR2Dp",
        "colab": {
          "base_uri": "https://localhost:8080/",
          "height": 809
        },
        "outputId": "80675896-3af1-4cda-cb1d-1b246e441a84"
      },
      "source": [
        "def plot_value_frequencies(df, cols=4, figsize=(5, 3.5)):\n",
        "    selected = df.select_dtypes(include=['float64','int64'])\n",
        "    key_list = selected.keys()\n",
        "    nkeys = len(key_list)\n",
        "    columns = cols\n",
        "    rows = nkeys // columns + 1\n",
        "    \n",
        "    figsize = (figsize[0] * columns, figsize[1] * rows)\n",
        "    fig, axs = plt.subplots(rows, columns, figsize=figsize)\n",
        "    ax_list = axs.ravel()\n",
        "    for ax in ax_list:\n",
        "        ax.set_axis_off()\n",
        "\n",
        "    for i, k in enumerate(key_list):\n",
        "        ax = ax_list[i]\n",
        "        ax.set_axis_on()\n",
        "        sns.histplot(df[k], label=k, ax=ax, kde=True, stat=\"density\", linewidth=0)\n",
        "        #df[k].value_counts().hist(ax=ax, bins=20)\n",
        "        #ax.set_title(k)\n",
        "    \n",
        "    plt.show()\n",
        "\n",
        "plot_value_frequencies(data)"
      ],
      "id": "WpTKYJSFR2Dp",
      "execution_count": null,
      "outputs": [
        {
          "output_type": "display_data",
          "data": {
            "image/png": "[encoded data removed]",
            "text/plain": [
              "<Figure size 1440x1260 with 20 Axes>"
            ]
          },
          "metadata": {
            "needs_background": "light"
          }
        }
      ]
    },
    {
      "cell_type": "markdown",
      "metadata": {
        "id": "qeatPJe-j6RI"
      },
      "source": [
        "Δεδομένων των παραπάνω κατανομών των δεδομένων καταλήγουμε πως δεν μπορεί να γίνει κάποια προεπεξεργασία/δεν μπορεί να αφαιρεθεί κάποιο χαρακτηριστικό."
      ],
      "id": "qeatPJe-j6RI"
    },
    {
      "cell_type": "markdown",
      "metadata": {
        "id": "6878883b"
      },
      "source": [
        "## Χωρισμός των δεδομένων\n",
        "\n",
        "Θα χωρίσουμε τα δεδομένα σε training set και testing set, με ποσοστό 70-30:"
      ],
      "id": "6878883b"
    },
    {
      "cell_type": "code",
      "metadata": {
        "id": "80e95f03"
      },
      "source": [
        "X = np.array(data.drop(['Result'], axis=1))\n",
        "y = np.array(data['Result'])\n",
        "\n",
        "X_train, X_test, y_train, y_test = train_test_split(X, y, test_size=0.3, random_state=42)"
      ],
      "id": "80e95f03",
      "execution_count": null,
      "outputs": []
    },
    {
      "cell_type": "markdown",
      "metadata": {
        "id": "72995756"
      },
      "source": [
        "Θα χρησιμοποιήσουμε τα παρακάτω scoring strategies:"
      ],
      "id": "72995756"
    },
    {
      "cell_type": "code",
      "metadata": {
        "id": "9d590e19"
      },
      "source": [
        "scoring_strategies = ['accuracy', 'f1_macro']"
      ],
      "id": "9d590e19",
      "execution_count": null,
      "outputs": []
    },
    {
      "cell_type": "markdown",
      "metadata": {
        "id": "bfe2d979"
      },
      "source": [
        "Θα χρησιμοποιήσουμε τους παρακάτω ταξινομητές:"
      ],
      "id": "bfe2d979"
    },
    {
      "cell_type": "code",
      "metadata": {
        "id": "207b6a35"
      },
      "source": [
        "dummy_clf = DummyClassifier()\n",
        "gnb_clf = GaussianNB()\n",
        "knn_clf = KNeighborsClassifier()\n",
        "log_clf = LogisticRegression()"
      ],
      "id": "207b6a35",
      "execution_count": null,
      "outputs": []
    },
    {
      "cell_type": "code",
      "metadata": {
        "id": "da0c28b8"
      },
      "source": [
        "@ignore_warnings(category=ConvergenceWarning)\n",
        "def out_of_the_box_evaluation(X_train, y_train):\n",
        "    \n",
        "    names = ['Dummy', 'Gaussian NB', 'k-Nearest Neighbors', 'Logistic Regression']\n",
        "\n",
        "    scores = [  \n",
        "              cross_validate(dummy_clf, X, y, cv=10, scoring=scoring_strategies),\n",
        "                cross_validate(gnb_clf, X, y, cv=10, scoring=scoring_strategies),\n",
        "                cross_validate(knn_clf, X, y, cv=10, scoring=scoring_strategies),\n",
        "                cross_validate(log_clf, X, y, cv=10, scoring=scoring_strategies) ]\n",
        "\n",
        "    return names, scores"
      ],
      "id": "da0c28b8",
      "execution_count": null,
      "outputs": []
    },
    {
      "cell_type": "code",
      "metadata": {
        "id": "d8b4071e"
      },
      "source": [
        "names, scores = out_of_the_box_evaluation(X_train, y_train)"
      ],
      "id": "d8b4071e",
      "execution_count": null,
      "outputs": []
    },
    {
      "cell_type": "code",
      "metadata": {
        "colab": {
          "base_uri": "https://localhost:8080/",
          "height": 768
        },
        "id": "af99e8ef",
        "outputId": "9d7b0cee-8ada-4d8a-9df6-715c8e76a421"
      },
      "source": [
        "def plot_scores_of_models(scores, names):\n",
        "    # Calculate mean of scores of the different folds\n",
        "    avg_scores = []\n",
        "    for s in scores:\n",
        "        avg_scores_of_model = []\n",
        "        for key in s:\n",
        "            avg = s[key].mean()\n",
        "            avg_scores_of_model.append(avg)\n",
        "        avg_scores.append(avg_scores_of_model)\n",
        "\n",
        "    # plot\n",
        "    x = np.arange(len(avg_scores[0])) \n",
        "    width = 0.35\n",
        "    window = width/len(avg_scores)\n",
        "    fig, ax = plt.subplots(figsize=(10, 5))\n",
        "    for i, s in enumerate(avg_scores):\n",
        "        ax.bar(x + (i - len(avg_scores)/2) * window, s, window, label=names[i])\n",
        "    \n",
        "    ax.set_ylabel('Metrics')\n",
        "    ax.set_title('Scores of different models')\n",
        "    ax.set_xticks(x)\n",
        "    ax.set_xticklabels(scores[0].keys())\n",
        "    ax.legend()\n",
        "\n",
        "    fig.tight_layout()\n",
        "\n",
        "    plt.show()\n",
        "\n",
        "plot_scores_of_models(scores, names)\n",
        "\n",
        "for name, score in zip(names, scores):\n",
        "  print(name)\n",
        "  for key in score.keys():\n",
        "    avg = score[key].mean()\n",
        "    print(f\"{key}: {avg:.5f}\")\n",
        "  print(\"\")"
      ],
      "id": "af99e8ef",
      "execution_count": null,
      "outputs": [
        {
          "output_type": "display_data",
          "data": {
            "image/png": "[encoded data removed]",
            "text/plain": [
              "<Figure size 720x360 with 1 Axes>"
            ]
          },
          "metadata": {
            "needs_background": "light"
          }
        },
        {
          "output_type": "stream",
          "name": "stdout",
          "text": [
            "Dummy\n",
            "fit_time: 0.00124\n",
            "score_time: 0.00227\n",
            "test_accuracy: 0.25770\n",
            "test_f1_macro: 0.10244\n",
            "\n",
            "Gaussian NB\n",
            "fit_time: 0.00216\n",
            "score_time: 0.00180\n",
            "test_accuracy: 0.46319\n",
            "test_f1_macro: 0.42713\n",
            "\n",
            "k-Nearest Neighbors\n",
            "fit_time: 0.00208\n",
            "score_time: 0.01047\n",
            "test_accuracy: 0.65496\n",
            "test_f1_macro: 0.64807\n",
            "\n",
            "Logistic Regression\n",
            "fit_time: 0.07907\n",
            "score_time: 0.00178\n",
            "test_accuracy: 0.72231\n",
            "test_f1_macro: 0.71752\n",
            "\n"
          ]
        }
      ]
    },
    {
      "cell_type": "markdown",
      "metadata": {
        "id": "d8bae3f5"
      },
      "source": [
        "| Classifier | Fit time | Score time | Accuracy | F1 macro |\n",
        "|------------|----------|------------|----------|-----------------|\n",
        "| Dummy      |   0.00124     |   0.00227         |   0.25770       |     0.10244     |\n",
        "| GNB        |   0.00216     |   0.00180         |   0.46319       |     0.42713     |\n",
        "| kNN        |   0.00208     |   0.01047         |   0.65496       |     0.64807     |\n",
        "| LogReg     |   0.07907     |   0.00178         |   0.72231       |     0.71752     |"
      ],
      "id": "d8bae3f5"
    },
    {
      "cell_type": "markdown",
      "metadata": {
        "id": "I2iSlcSSMS7p"
      },
      "source": [
        "## Pipelines"
      ],
      "id": "I2iSlcSSMS7p"
    },
    {
      "cell_type": "code",
      "metadata": {
        "id": "5794dd44"
      },
      "source": [
        "preprocessor = make_pipeline(StandardScaler())\n",
        "DummyPipeline = make_pipeline(preprocessor, DummyClassifier())\n",
        "GNBPipeline = make_pipeline(preprocessor, GaussianNB())\n",
        "kNNPipeline = make_pipeline(preprocessor, KNeighborsClassifier())\n",
        "LogPipeline = make_pipeline(preprocessor, LogisticRegression())"
      ],
      "id": "5794dd44",
      "execution_count": null,
      "outputs": []
    },
    {
      "cell_type": "code",
      "metadata": {
        "id": "a76d19f3"
      },
      "source": [
        "dict_of_models = {'Dummy': DummyPipeline,\n",
        "                  'GNB': GNBPipeline,\n",
        "                  'kNN': kNNPipeline,\n",
        "                  'Log': LogPipeline}"
      ],
      "id": "a76d19f3",
      "execution_count": null,
      "outputs": []
    },
    {
      "cell_type": "code",
      "metadata": {
        "id": "3f9236ef"
      },
      "source": [
        "@ignore_warnings(category=ConvergenceWarning)\n",
        "def evaluation(model):\n",
        "    model.fit(X_train, y_train)\n",
        "    # calculating the predictions\n",
        "    y_pred = model.predict(X_test)\n",
        "    print('Accuracy = ', accuracy_score(y_test, y_pred))\n",
        "    print('-')\n",
        "    print(confusion_matrix(y_test,y_pred))\n",
        "    print('-')\n",
        "    print(classification_report(y_test,y_pred))\n",
        "    print('-')"
      ],
      "id": "3f9236ef",
      "execution_count": null,
      "outputs": []
    },
    {
      "cell_type": "code",
      "metadata": {
        "colab": {
          "base_uri": "https://localhost:8080/"
        },
        "id": "8efc7412",
        "outputId": "bb4a76ca-ad63-4733-c8b6-4dd246a04011"
      },
      "source": [
        "for name, model in dict_of_models.items():\n",
        "    print('---------------------------------')\n",
        "    print(name)\n",
        "    evaluation(model)"
      ],
      "id": "8efc7412",
      "execution_count": null,
      "outputs": [
        {
          "output_type": "stream",
          "name": "stdout",
          "text": [
            "---------------------------------\n",
            "Dummy\n",
            "Accuracy =  0.18503937007874016\n",
            "-\n",
            "[[ 0 78  0  0]\n",
            " [ 0 47  0  0]\n",
            " [ 0 71  0  0]\n",
            " [ 0 58  0  0]]\n",
            "-\n",
            "              precision    recall  f1-score   support\n",
            "\n",
            "         bus       0.00      0.00      0.00        78\n",
            "        opel       0.19      1.00      0.31        47\n",
            "        saab       0.00      0.00      0.00        71\n",
            "         van       0.00      0.00      0.00        58\n",
            "\n",
            "    accuracy                           0.19       254\n",
            "   macro avg       0.05      0.25      0.08       254\n",
            "weighted avg       0.03      0.19      0.06       254\n",
            "\n",
            "-\n",
            "---------------------------------\n",
            "GNB\n",
            "Accuracy =  0.4566929133858268\n",
            "-\n",
            "[[ 9 25  2 42]\n",
            " [ 0 20 15 12]\n",
            " [ 2 17 31 21]\n",
            " [ 1  1  0 56]]\n",
            "-\n",
            "              precision    recall  f1-score   support\n",
            "\n",
            "         bus       0.75      0.12      0.20        78\n",
            "        opel       0.32      0.43      0.36        47\n",
            "        saab       0.65      0.44      0.52        71\n",
            "         van       0.43      0.97      0.59        58\n",
            "\n",
            "    accuracy                           0.46       254\n",
            "   macro avg       0.54      0.49      0.42       254\n",
            "weighted avg       0.57      0.46      0.41       254\n",
            "\n",
            "-\n",
            "---------------------------------\n",
            "kNN\n",
            "Accuracy =  0.7677165354330708\n",
            "-\n",
            "[[77  1  0  0]\n",
            " [ 0 27 18  2]\n",
            " [ 2 24 40  5]\n",
            " [ 2  3  2 51]]\n",
            "-\n",
            "              precision    recall  f1-score   support\n",
            "\n",
            "         bus       0.95      0.99      0.97        78\n",
            "        opel       0.49      0.57      0.53        47\n",
            "        saab       0.67      0.56      0.61        71\n",
            "         van       0.88      0.88      0.88        58\n",
            "\n",
            "    accuracy                           0.77       254\n",
            "   macro avg       0.75      0.75      0.75       254\n",
            "weighted avg       0.77      0.77      0.77       254\n",
            "\n",
            "-\n",
            "---------------------------------\n",
            "Log\n",
            "Accuracy =  0.7913385826771654\n",
            "-\n",
            "[[75  2  0  1]\n",
            " [ 2 33 11  1]\n",
            " [ 5 28 36  2]\n",
            " [ 0  1  0 57]]\n",
            "-\n",
            "              precision    recall  f1-score   support\n",
            "\n",
            "         bus       0.91      0.96      0.94        78\n",
            "        opel       0.52      0.70      0.59        47\n",
            "        saab       0.77      0.51      0.61        71\n",
            "         van       0.93      0.98      0.96        58\n",
            "\n",
            "    accuracy                           0.79       254\n",
            "   macro avg       0.78      0.79      0.78       254\n",
            "weighted avg       0.80      0.79      0.79       254\n",
            "\n",
            "-\n"
          ]
        },
        {
          "output_type": "stream",
          "name": "stderr",
          "text": [
            "/usr/local/lib/python3.7/dist-packages/sklearn/metrics/_classification.py:1308: UndefinedMetricWarning:\n",
            "\n",
            "Precision and F-score are ill-defined and being set to 0.0 in labels with no predicted samples. Use `zero_division` parameter to control this behavior.\n",
            "\n",
            "/usr/local/lib/python3.7/dist-packages/sklearn/metrics/_classification.py:1308: UndefinedMetricWarning:\n",
            "\n",
            "Precision and F-score are ill-defined and being set to 0.0 in labels with no predicted samples. Use `zero_division` parameter to control this behavior.\n",
            "\n",
            "/usr/local/lib/python3.7/dist-packages/sklearn/metrics/_classification.py:1308: UndefinedMetricWarning:\n",
            "\n",
            "Precision and F-score are ill-defined and being set to 0.0 in labels with no predicted samples. Use `zero_division` parameter to control this behavior.\n",
            "\n"
          ]
        }
      ]
    },
    {
      "cell_type": "markdown",
      "metadata": {
        "id": "z4mZRq0Eyo0H"
      },
      "source": [
        "## Εύρεση βέλτιστων υπερπαραμέτρων με αναζήτηση πλέγματος με διασταυρούμενη επικύρωση"
      ],
      "id": "z4mZRq0Eyo0H"
    },
    {
      "cell_type": "code",
      "metadata": {
        "colab": {
          "base_uri": "https://localhost:8080/",
          "height": 652
        },
        "id": "c4aa3814",
        "outputId": "6c4ec9c8-4e81-4267-9c40-d62c043152bb"
      },
      "source": [
        "parameters = { \n",
        "    'gaussiannb__var_smoothing': [1e-2, 1e-3, 1e-4, 1e-5, 1e-6, 1e-7, 1e-8, 1e-9, 1e-10, 1e-11, 1e-12, 1e-13, 1e-14, 1e-15]\n",
        "}\n",
        "\n",
        "gnb_grid = GridSearchCV(GNBPipeline, parameters, scoring='accuracy')\n",
        "gnb_grid.fit(X_train, y_train)\n",
        "\n",
        "best_gnb = (gnb_grid.best_estimator_)\n",
        "best_gnb.fit(X_train,y_train)\n",
        "# calculating the predictions\n",
        "y_pred = best_gnb.predict(X_test)\n",
        "\n",
        "N, train_score, test_score = learning_curve(best_gnb, X_train, y_train, \n",
        "                                           cv=10, scoring='accuracy', \n",
        "                                           train_sizes=np.linspace(0.1,1,10))\n",
        "GNB_conf_matr = confusion_matrix(y_test,y_pred)\n",
        "print('Accuracy = ', accuracy_score(y_test, y_pred))\n",
        "print('-')\n",
        "print(confusion_matrix(y_test,y_pred))\n",
        "print('-')\n",
        "print(classification_report(y_test,y_pred))\n",
        "print('-')\n",
        "    \n",
        "plt.figure(figsize=(5,5))\n",
        "plt.plot(N, train_score.mean(axis=1), label='train score')\n",
        "plt.plot(N, test_score.mean(axis=1), label='validation score')\n",
        "plt.legend()\n",
        "plt.title('Accuracy')\n",
        "plt.show()"
      ],
      "id": "c4aa3814",
      "execution_count": null,
      "outputs": [
        {
          "output_type": "stream",
          "name": "stdout",
          "text": [
            "Accuracy =  0.4566929133858268\n",
            "-\n",
            "[[ 9 25  2 42]\n",
            " [ 0 20 15 12]\n",
            " [ 2 17 31 21]\n",
            " [ 1  1  0 56]]\n",
            "-\n",
            "              precision    recall  f1-score   support\n",
            "\n",
            "         bus       0.75      0.12      0.20        78\n",
            "        opel       0.32      0.43      0.36        47\n",
            "        saab       0.65      0.44      0.52        71\n",
            "         van       0.43      0.97      0.59        58\n",
            "\n",
            "    accuracy                           0.46       254\n",
            "   macro avg       0.54      0.49      0.42       254\n",
            "weighted avg       0.57      0.46      0.41       254\n",
            "\n",
            "-\n"
          ]
        },
        {
          "output_type": "display_data",
          "data": {
            "image/png": "[encoded data removed]",
            "text/plain": [
              "<Figure size 360x360 with 1 Axes>"
            ]
          },
          "metadata": {
            "needs_background": "light"
          }
        }
      ]
    },
    {
      "cell_type": "code",
      "metadata": {
        "colab": {
          "base_uri": "https://localhost:8080/",
          "height": 652
        },
        "id": "092b30be",
        "outputId": "aaf4c9fe-eafa-4b62-d430-68aa7498e411"
      },
      "source": [
        "parameters = { \n",
        "    'kneighborsclassifier__n_neighbors': [1, 3, 5, 7, 9, 11, 13, 15, 17, 19, 21, 23],\n",
        "    'kneighborsclassifier__weights': ['uniform', 'distance'],\n",
        "    'kneighborsclassifier__metric': ['euclidean', 'manhattan']\n",
        "}\n",
        "\n",
        "kNN_grid = GridSearchCV(kNNPipeline, parameters, scoring='accuracy', n_jobs=-1)\n",
        "kNN_grid.fit(X_train, y_train)\n",
        "\n",
        "best_kNN = (kNN_grid.best_estimator_)\n",
        "best_kNN.fit(X_train,y_train)\n",
        "# calculating the predictions\n",
        "y_pred = best_kNN.predict(X_test)\n",
        "\n",
        "N, train_score, test_score = learning_curve(best_kNN, X_train, y_train, \n",
        "                                           cv=10, scoring='accuracy', \n",
        "                                           train_sizes=np.linspace(0.1,1,10))\n",
        "kNN_conf_matr = confusion_matrix(y_test,y_pred)\n",
        "print('Accuracy = ', accuracy_score(y_test, y_pred))\n",
        "print('-')\n",
        "print(confusion_matrix(y_test,y_pred))\n",
        "print('-')\n",
        "print(classification_report(y_test,y_pred))\n",
        "print('-')\n",
        "    \n",
        "plt.figure(figsize=(5,5))\n",
        "plt.plot(N, train_score.mean(axis=1), label='train score')\n",
        "plt.plot(N, test_score.mean(axis=1), label='validation score')\n",
        "plt.legend()\n",
        "plt.title('Accuracy')\n",
        "plt.show()"
      ],
      "id": "092b30be",
      "execution_count": null,
      "outputs": [
        {
          "output_type": "stream",
          "name": "stdout",
          "text": [
            "Accuracy =  0.7086614173228346\n",
            "-\n",
            "[[72  5  0  1]\n",
            " [ 0 20 24  3]\n",
            " [ 3 29 32  7]\n",
            " [ 2  0  0 56]]\n",
            "-\n",
            "              precision    recall  f1-score   support\n",
            "\n",
            "         bus       0.94      0.92      0.93        78\n",
            "        opel       0.37      0.43      0.40        47\n",
            "        saab       0.57      0.45      0.50        71\n",
            "         van       0.84      0.97      0.90        58\n",
            "\n",
            "    accuracy                           0.71       254\n",
            "   macro avg       0.68      0.69      0.68       254\n",
            "weighted avg       0.71      0.71      0.70       254\n",
            "\n",
            "-\n"
          ]
        },
        {
          "output_type": "display_data",
          "data": {
            "image/png": "[encoded data removed]",
            "text/plain": [
              "<Figure size 360x360 with 1 Axes>"
            ]
          },
          "metadata": {
            "needs_background": "light"
          }
        }
      ]
    },
    {
      "cell_type": "code",
      "metadata": {
        "colab": {
          "base_uri": "https://localhost:8080/",
          "height": 1000
        },
        "id": "a0613e9d",
        "outputId": "166f8d77-c2e0-43d8-a1b5-75cb582363d3"
      },
      "source": [
        "parameters = {\n",
        "    'logisticregression__penalty': ['l1', 'l2', 'elasticnet'],\n",
        "    'logisticregression__C': np.logspace(1, 1, 10),\n",
        "    'logisticregression__solver': ['newton-cg', 'lbfgs', 'liblinear', 'sag', 'saga'],\n",
        "    'logisticregression__max_iter': [2000]\n",
        "}\n",
        "\n",
        "Log_grid = GridSearchCV(LogPipeline, parameters, scoring='accuracy', n_jobs=-1)\n",
        "Log_grid.fit(X_train, y_train)\n",
        "\n",
        "best_Log = (Log_grid.best_estimator_)\n",
        "best_Log.fit(X_train,y_train)\n",
        "# calculating the predictions\n",
        "y_pred = best_Log.predict(X_test)\n",
        "\n",
        "N, train_score, test_score = learning_curve(best_Log, X_train, y_train, \n",
        "                                            cv=10, scoring='accuracy', \n",
        "                                            train_sizes=np.linspace(0.1,1,10))\n",
        "Log_conf_matr = confusion_matrix(y_test,y_pred)\n",
        "print('Accuracy = ', accuracy_score(y_test, y_pred))\n",
        "print('-')\n",
        "print(confusion_matrix(y_test,y_pred))\n",
        "print('-')\n",
        "print(classification_report(y_test,y_pred))\n",
        "print('-')\n",
        "\n",
        "plt.figure(figsize=(5,5))\n",
        "plt.plot(N, train_score.mean(axis=1), label='train score')\n",
        "plt.plot(N, test_score.mean(axis=1), label='validation score')\n",
        "plt.legend()\n",
        "plt.title('Accuracy')\n",
        "plt.show()\n"
      ],
      "id": "a0613e9d",
      "execution_count": null,
      "outputs": [
        {
          "output_type": "stream",
          "name": "stderr",
          "text": [
            "/usr/local/lib/python3.7/dist-packages/sklearn/model_selection/_validation.py:372: FitFailedWarning:\n",
            "\n",
            "\n",
            "400 fits failed out of a total of 750.\n",
            "The score on these train-test partitions for these parameters will be set to nan.\n",
            "If these failures are not expected, you can try to debug them by setting error_score='raise'.\n",
            "\n",
            "Below are more details about the failures:\n",
            "--------------------------------------------------------------------------------\n",
            "50 fits failed with the following error:\n",
            "Traceback (most recent call last):\n",
            "  File \"/usr/local/lib/python3.7/dist-packages/sklearn/model_selection/_validation.py\", line 681, in _fit_and_score\n",
            "    estimator.fit(X_train, y_train, **fit_params)\n",
            "  File \"/usr/local/lib/python3.7/dist-packages/sklearn/pipeline.py\", line 394, in fit\n",
            "    self._final_estimator.fit(Xt, y, **fit_params_last_step)\n",
            "  File \"/usr/local/lib/python3.7/dist-packages/sklearn/linear_model/_logistic.py\", line 1461, in fit\n",
            "    solver = _check_solver(self.solver, self.penalty, self.dual)\n",
            "  File \"/usr/local/lib/python3.7/dist-packages/sklearn/linear_model/_logistic.py\", line 449, in _check_solver\n",
            "    % (solver, penalty)\n",
            "ValueError: Solver newton-cg supports only 'l2' or 'none' penalties, got l1 penalty.\n",
            "\n",
            "--------------------------------------------------------------------------------\n",
            "50 fits failed with the following error:\n",
            "Traceback (most recent call last):\n",
            "  File \"/usr/local/lib/python3.7/dist-packages/sklearn/model_selection/_validation.py\", line 681, in _fit_and_score\n",
            "    estimator.fit(X_train, y_train, **fit_params)\n",
            "  File \"/usr/local/lib/python3.7/dist-packages/sklearn/pipeline.py\", line 394, in fit\n",
            "    self._final_estimator.fit(Xt, y, **fit_params_last_step)\n",
            "  File \"/usr/local/lib/python3.7/dist-packages/sklearn/linear_model/_logistic.py\", line 1461, in fit\n",
            "    solver = _check_solver(self.solver, self.penalty, self.dual)\n",
            "  File \"/usr/local/lib/python3.7/dist-packages/sklearn/linear_model/_logistic.py\", line 449, in _check_solver\n",
            "    % (solver, penalty)\n",
            "ValueError: Solver lbfgs supports only 'l2' or 'none' penalties, got l1 penalty.\n",
            "\n",
            "--------------------------------------------------------------------------------\n",
            "50 fits failed with the following error:\n",
            "Traceback (most recent call last):\n",
            "  File \"/usr/local/lib/python3.7/dist-packages/sklearn/model_selection/_validation.py\", line 681, in _fit_and_score\n",
            "    estimator.fit(X_train, y_train, **fit_params)\n",
            "  File \"/usr/local/lib/python3.7/dist-packages/sklearn/pipeline.py\", line 394, in fit\n",
            "    self._final_estimator.fit(Xt, y, **fit_params_last_step)\n",
            "  File \"/usr/local/lib/python3.7/dist-packages/sklearn/linear_model/_logistic.py\", line 1461, in fit\n",
            "    solver = _check_solver(self.solver, self.penalty, self.dual)\n",
            "  File \"/usr/local/lib/python3.7/dist-packages/sklearn/linear_model/_logistic.py\", line 449, in _check_solver\n",
            "    % (solver, penalty)\n",
            "ValueError: Solver sag supports only 'l2' or 'none' penalties, got l1 penalty.\n",
            "\n",
            "--------------------------------------------------------------------------------\n",
            "50 fits failed with the following error:\n",
            "Traceback (most recent call last):\n",
            "  File \"/usr/local/lib/python3.7/dist-packages/sklearn/model_selection/_validation.py\", line 681, in _fit_and_score\n",
            "    estimator.fit(X_train, y_train, **fit_params)\n",
            "  File \"/usr/local/lib/python3.7/dist-packages/sklearn/pipeline.py\", line 394, in fit\n",
            "    self._final_estimator.fit(Xt, y, **fit_params_last_step)\n",
            "  File \"/usr/local/lib/python3.7/dist-packages/sklearn/linear_model/_logistic.py\", line 1461, in fit\n",
            "    solver = _check_solver(self.solver, self.penalty, self.dual)\n",
            "  File \"/usr/local/lib/python3.7/dist-packages/sklearn/linear_model/_logistic.py\", line 449, in _check_solver\n",
            "    % (solver, penalty)\n",
            "ValueError: Solver newton-cg supports only 'l2' or 'none' penalties, got elasticnet penalty.\n",
            "\n",
            "--------------------------------------------------------------------------------\n",
            "50 fits failed with the following error:\n",
            "Traceback (most recent call last):\n",
            "  File \"/usr/local/lib/python3.7/dist-packages/sklearn/model_selection/_validation.py\", line 681, in _fit_and_score\n",
            "    estimator.fit(X_train, y_train, **fit_params)\n",
            "  File \"/usr/local/lib/python3.7/dist-packages/sklearn/pipeline.py\", line 394, in fit\n",
            "    self._final_estimator.fit(Xt, y, **fit_params_last_step)\n",
            "  File \"/usr/local/lib/python3.7/dist-packages/sklearn/linear_model/_logistic.py\", line 1461, in fit\n",
            "    solver = _check_solver(self.solver, self.penalty, self.dual)\n",
            "  File \"/usr/local/lib/python3.7/dist-packages/sklearn/linear_model/_logistic.py\", line 449, in _check_solver\n",
            "    % (solver, penalty)\n",
            "ValueError: Solver lbfgs supports only 'l2' or 'none' penalties, got elasticnet penalty.\n",
            "\n",
            "--------------------------------------------------------------------------------\n",
            "50 fits failed with the following error:\n",
            "Traceback (most recent call last):\n",
            "  File \"/usr/local/lib/python3.7/dist-packages/sklearn/model_selection/_validation.py\", line 681, in _fit_and_score\n",
            "    estimator.fit(X_train, y_train, **fit_params)\n",
            "  File \"/usr/local/lib/python3.7/dist-packages/sklearn/pipeline.py\", line 394, in fit\n",
            "    self._final_estimator.fit(Xt, y, **fit_params_last_step)\n",
            "  File \"/usr/local/lib/python3.7/dist-packages/sklearn/linear_model/_logistic.py\", line 1461, in fit\n",
            "    solver = _check_solver(self.solver, self.penalty, self.dual)\n",
            "  File \"/usr/local/lib/python3.7/dist-packages/sklearn/linear_model/_logistic.py\", line 459, in _check_solver\n",
            "    solver\n",
            "ValueError: Only 'saga' solver supports elasticnet penalty, got solver=liblinear.\n",
            "\n",
            "--------------------------------------------------------------------------------\n",
            "50 fits failed with the following error:\n",
            "Traceback (most recent call last):\n",
            "  File \"/usr/local/lib/python3.7/dist-packages/sklearn/model_selection/_validation.py\", line 681, in _fit_and_score\n",
            "    estimator.fit(X_train, y_train, **fit_params)\n",
            "  File \"/usr/local/lib/python3.7/dist-packages/sklearn/pipeline.py\", line 394, in fit\n",
            "    self._final_estimator.fit(Xt, y, **fit_params_last_step)\n",
            "  File \"/usr/local/lib/python3.7/dist-packages/sklearn/linear_model/_logistic.py\", line 1461, in fit\n",
            "    solver = _check_solver(self.solver, self.penalty, self.dual)\n",
            "  File \"/usr/local/lib/python3.7/dist-packages/sklearn/linear_model/_logistic.py\", line 449, in _check_solver\n",
            "    % (solver, penalty)\n",
            "ValueError: Solver sag supports only 'l2' or 'none' penalties, got elasticnet penalty.\n",
            "\n",
            "--------------------------------------------------------------------------------\n",
            "50 fits failed with the following error:\n",
            "Traceback (most recent call last):\n",
            "  File \"/usr/local/lib/python3.7/dist-packages/sklearn/model_selection/_validation.py\", line 681, in _fit_and_score\n",
            "    estimator.fit(X_train, y_train, **fit_params)\n",
            "  File \"/usr/local/lib/python3.7/dist-packages/sklearn/pipeline.py\", line 394, in fit\n",
            "    self._final_estimator.fit(Xt, y, **fit_params_last_step)\n",
            "  File \"/usr/local/lib/python3.7/dist-packages/sklearn/linear_model/_logistic.py\", line 1473, in fit\n",
            "    % self.l1_ratio\n",
            "ValueError: l1_ratio must be between 0 and 1; got (l1_ratio=None)\n",
            "\n",
            "\n",
            "/usr/local/lib/python3.7/dist-packages/sklearn/model_selection/_search.py:972: UserWarning:\n",
            "\n",
            "One or more of the test scores are non-finite: [       nan        nan 0.79222333        nan 0.81253383 0.80912975\n",
            " 0.80912975 0.78544367 0.8124911  0.8124911         nan        nan\n",
            "        nan        nan        nan        nan        nan 0.79222333\n",
            "        nan 0.81253383 0.80912975 0.80912975 0.78544367 0.8124911\n",
            " 0.8124911         nan        nan        nan        nan        nan\n",
            "        nan        nan 0.79222333        nan 0.81253383 0.80912975\n",
            " 0.80912975 0.78544367 0.8124911  0.8124911         nan        nan\n",
            "        nan        nan        nan        nan        nan 0.79222333\n",
            "        nan 0.81253383 0.80912975 0.80912975 0.78544367 0.8124911\n",
            " 0.8124911         nan        nan        nan        nan        nan\n",
            "        nan        nan 0.79222333        nan 0.81253383 0.80912975\n",
            " 0.80912975 0.78544367 0.8124911  0.8124911         nan        nan\n",
            "        nan        nan        nan        nan        nan 0.79222333\n",
            "        nan 0.81253383 0.80912975 0.80912975 0.78544367 0.8124911\n",
            " 0.8124911         nan        nan        nan        nan        nan\n",
            "        nan        nan 0.79222333        nan 0.81253383 0.80912975\n",
            " 0.80912975 0.78544367 0.8124911  0.8124911         nan        nan\n",
            "        nan        nan        nan        nan        nan 0.79222333\n",
            "        nan 0.81253383 0.80912975 0.80912975 0.78544367 0.8124911\n",
            " 0.8124911         nan        nan        nan        nan        nan\n",
            "        nan        nan 0.79222333        nan 0.81253383 0.80912975\n",
            " 0.80912975 0.78544367 0.8124911  0.8124911         nan        nan\n",
            "        nan        nan        nan        nan        nan 0.79222333\n",
            "        nan 0.81253383 0.80912975 0.80912975 0.78544367 0.8124911\n",
            " 0.8124911         nan        nan        nan        nan        nan]\n",
            "\n",
            "/usr/local/lib/python3.7/dist-packages/sklearn/linear_model/_sag.py:354: ConvergenceWarning:\n",
            "\n",
            "The max_iter was reached which means the coef_ did not converge\n",
            "\n",
            "/usr/local/lib/python3.7/dist-packages/sklearn/linear_model/_sag.py:354: ConvergenceWarning:\n",
            "\n",
            "The max_iter was reached which means the coef_ did not converge\n",
            "\n",
            "/usr/local/lib/python3.7/dist-packages/sklearn/linear_model/_sag.py:354: ConvergenceWarning:\n",
            "\n",
            "The max_iter was reached which means the coef_ did not converge\n",
            "\n",
            "/usr/local/lib/python3.7/dist-packages/sklearn/linear_model/_sag.py:354: ConvergenceWarning:\n",
            "\n",
            "The max_iter was reached which means the coef_ did not converge\n",
            "\n",
            "/usr/local/lib/python3.7/dist-packages/sklearn/linear_model/_sag.py:354: ConvergenceWarning:\n",
            "\n",
            "The max_iter was reached which means the coef_ did not converge\n",
            "\n",
            "/usr/local/lib/python3.7/dist-packages/sklearn/linear_model/_sag.py:354: ConvergenceWarning:\n",
            "\n",
            "The max_iter was reached which means the coef_ did not converge\n",
            "\n",
            "/usr/local/lib/python3.7/dist-packages/sklearn/linear_model/_sag.py:354: ConvergenceWarning:\n",
            "\n",
            "The max_iter was reached which means the coef_ did not converge\n",
            "\n",
            "/usr/local/lib/python3.7/dist-packages/sklearn/linear_model/_sag.py:354: ConvergenceWarning:\n",
            "\n",
            "The max_iter was reached which means the coef_ did not converge\n",
            "\n",
            "/usr/local/lib/python3.7/dist-packages/sklearn/linear_model/_sag.py:354: ConvergenceWarning:\n",
            "\n",
            "The max_iter was reached which means the coef_ did not converge\n",
            "\n",
            "/usr/local/lib/python3.7/dist-packages/sklearn/linear_model/_sag.py:354: ConvergenceWarning:\n",
            "\n",
            "The max_iter was reached which means the coef_ did not converge\n",
            "\n",
            "/usr/local/lib/python3.7/dist-packages/sklearn/linear_model/_sag.py:354: ConvergenceWarning:\n",
            "\n",
            "The max_iter was reached which means the coef_ did not converge\n",
            "\n",
            "/usr/local/lib/python3.7/dist-packages/sklearn/linear_model/_sag.py:354: ConvergenceWarning:\n",
            "\n",
            "The max_iter was reached which means the coef_ did not converge\n",
            "\n",
            "/usr/local/lib/python3.7/dist-packages/sklearn/linear_model/_sag.py:354: ConvergenceWarning:\n",
            "\n",
            "The max_iter was reached which means the coef_ did not converge\n",
            "\n",
            "/usr/local/lib/python3.7/dist-packages/sklearn/linear_model/_sag.py:354: ConvergenceWarning:\n",
            "\n",
            "The max_iter was reached which means the coef_ did not converge\n",
            "\n",
            "/usr/local/lib/python3.7/dist-packages/sklearn/linear_model/_sag.py:354: ConvergenceWarning:\n",
            "\n",
            "The max_iter was reached which means the coef_ did not converge\n",
            "\n",
            "/usr/local/lib/python3.7/dist-packages/sklearn/linear_model/_sag.py:354: ConvergenceWarning:\n",
            "\n",
            "The max_iter was reached which means the coef_ did not converge\n",
            "\n",
            "/usr/local/lib/python3.7/dist-packages/sklearn/linear_model/_sag.py:354: ConvergenceWarning:\n",
            "\n",
            "The max_iter was reached which means the coef_ did not converge\n",
            "\n",
            "/usr/local/lib/python3.7/dist-packages/sklearn/linear_model/_sag.py:354: ConvergenceWarning:\n",
            "\n",
            "The max_iter was reached which means the coef_ did not converge\n",
            "\n",
            "/usr/local/lib/python3.7/dist-packages/sklearn/linear_model/_sag.py:354: ConvergenceWarning:\n",
            "\n",
            "The max_iter was reached which means the coef_ did not converge\n",
            "\n",
            "/usr/local/lib/python3.7/dist-packages/sklearn/linear_model/_sag.py:354: ConvergenceWarning:\n",
            "\n",
            "The max_iter was reached which means the coef_ did not converge\n",
            "\n",
            "/usr/local/lib/python3.7/dist-packages/sklearn/linear_model/_sag.py:354: ConvergenceWarning:\n",
            "\n",
            "The max_iter was reached which means the coef_ did not converge\n",
            "\n",
            "/usr/local/lib/python3.7/dist-packages/sklearn/linear_model/_sag.py:354: ConvergenceWarning:\n",
            "\n",
            "The max_iter was reached which means the coef_ did not converge\n",
            "\n",
            "/usr/local/lib/python3.7/dist-packages/sklearn/linear_model/_sag.py:354: ConvergenceWarning:\n",
            "\n",
            "The max_iter was reached which means the coef_ did not converge\n",
            "\n",
            "/usr/local/lib/python3.7/dist-packages/sklearn/linear_model/_sag.py:354: ConvergenceWarning:\n",
            "\n",
            "The max_iter was reached which means the coef_ did not converge\n",
            "\n",
            "/usr/local/lib/python3.7/dist-packages/sklearn/linear_model/_sag.py:354: ConvergenceWarning:\n",
            "\n",
            "The max_iter was reached which means the coef_ did not converge\n",
            "\n",
            "/usr/local/lib/python3.7/dist-packages/sklearn/linear_model/_sag.py:354: ConvergenceWarning:\n",
            "\n",
            "The max_iter was reached which means the coef_ did not converge\n",
            "\n",
            "/usr/local/lib/python3.7/dist-packages/sklearn/linear_model/_sag.py:354: ConvergenceWarning:\n",
            "\n",
            "The max_iter was reached which means the coef_ did not converge\n",
            "\n",
            "/usr/local/lib/python3.7/dist-packages/sklearn/linear_model/_sag.py:354: ConvergenceWarning:\n",
            "\n",
            "The max_iter was reached which means the coef_ did not converge\n",
            "\n",
            "/usr/local/lib/python3.7/dist-packages/sklearn/linear_model/_sag.py:354: ConvergenceWarning:\n",
            "\n",
            "The max_iter was reached which means the coef_ did not converge\n",
            "\n",
            "/usr/local/lib/python3.7/dist-packages/sklearn/linear_model/_sag.py:354: ConvergenceWarning:\n",
            "\n",
            "The max_iter was reached which means the coef_ did not converge\n",
            "\n",
            "/usr/local/lib/python3.7/dist-packages/sklearn/linear_model/_sag.py:354: ConvergenceWarning:\n",
            "\n",
            "The max_iter was reached which means the coef_ did not converge\n",
            "\n",
            "/usr/local/lib/python3.7/dist-packages/sklearn/linear_model/_sag.py:354: ConvergenceWarning:\n",
            "\n",
            "The max_iter was reached which means the coef_ did not converge\n",
            "\n",
            "/usr/local/lib/python3.7/dist-packages/sklearn/linear_model/_sag.py:354: ConvergenceWarning:\n",
            "\n",
            "The max_iter was reached which means the coef_ did not converge\n",
            "\n",
            "/usr/local/lib/python3.7/dist-packages/sklearn/linear_model/_sag.py:354: ConvergenceWarning:\n",
            "\n",
            "The max_iter was reached which means the coef_ did not converge\n",
            "\n",
            "/usr/local/lib/python3.7/dist-packages/sklearn/linear_model/_sag.py:354: ConvergenceWarning:\n",
            "\n",
            "The max_iter was reached which means the coef_ did not converge\n",
            "\n",
            "/usr/local/lib/python3.7/dist-packages/sklearn/linear_model/_sag.py:354: ConvergenceWarning:\n",
            "\n",
            "The max_iter was reached which means the coef_ did not converge\n",
            "\n",
            "/usr/local/lib/python3.7/dist-packages/sklearn/linear_model/_sag.py:354: ConvergenceWarning:\n",
            "\n",
            "The max_iter was reached which means the coef_ did not converge\n",
            "\n",
            "/usr/local/lib/python3.7/dist-packages/sklearn/linear_model/_sag.py:354: ConvergenceWarning:\n",
            "\n",
            "The max_iter was reached which means the coef_ did not converge\n",
            "\n",
            "/usr/local/lib/python3.7/dist-packages/sklearn/linear_model/_sag.py:354: ConvergenceWarning:\n",
            "\n",
            "The max_iter was reached which means the coef_ did not converge\n",
            "\n",
            "/usr/local/lib/python3.7/dist-packages/sklearn/linear_model/_sag.py:354: ConvergenceWarning:\n",
            "\n",
            "The max_iter was reached which means the coef_ did not converge\n",
            "\n",
            "/usr/local/lib/python3.7/dist-packages/sklearn/linear_model/_sag.py:354: ConvergenceWarning:\n",
            "\n",
            "The max_iter was reached which means the coef_ did not converge\n",
            "\n",
            "/usr/local/lib/python3.7/dist-packages/sklearn/linear_model/_sag.py:354: ConvergenceWarning:\n",
            "\n",
            "The max_iter was reached which means the coef_ did not converge\n",
            "\n",
            "/usr/local/lib/python3.7/dist-packages/sklearn/linear_model/_sag.py:354: ConvergenceWarning:\n",
            "\n",
            "The max_iter was reached which means the coef_ did not converge\n",
            "\n",
            "/usr/local/lib/python3.7/dist-packages/sklearn/linear_model/_sag.py:354: ConvergenceWarning:\n",
            "\n",
            "The max_iter was reached which means the coef_ did not converge\n",
            "\n",
            "/usr/local/lib/python3.7/dist-packages/sklearn/linear_model/_sag.py:354: ConvergenceWarning:\n",
            "\n",
            "The max_iter was reached which means the coef_ did not converge\n",
            "\n",
            "/usr/local/lib/python3.7/dist-packages/sklearn/linear_model/_sag.py:354: ConvergenceWarning:\n",
            "\n",
            "The max_iter was reached which means the coef_ did not converge\n",
            "\n",
            "/usr/local/lib/python3.7/dist-packages/sklearn/linear_model/_sag.py:354: ConvergenceWarning:\n",
            "\n",
            "The max_iter was reached which means the coef_ did not converge\n",
            "\n",
            "/usr/local/lib/python3.7/dist-packages/sklearn/linear_model/_sag.py:354: ConvergenceWarning:\n",
            "\n",
            "The max_iter was reached which means the coef_ did not converge\n",
            "\n",
            "/usr/local/lib/python3.7/dist-packages/sklearn/linear_model/_sag.py:354: ConvergenceWarning:\n",
            "\n",
            "The max_iter was reached which means the coef_ did not converge\n",
            "\n",
            "/usr/local/lib/python3.7/dist-packages/sklearn/linear_model/_sag.py:354: ConvergenceWarning:\n",
            "\n",
            "The max_iter was reached which means the coef_ did not converge\n",
            "\n",
            "/usr/local/lib/python3.7/dist-packages/sklearn/linear_model/_sag.py:354: ConvergenceWarning:\n",
            "\n",
            "The max_iter was reached which means the coef_ did not converge\n",
            "\n",
            "/usr/local/lib/python3.7/dist-packages/sklearn/linear_model/_sag.py:354: ConvergenceWarning:\n",
            "\n",
            "The max_iter was reached which means the coef_ did not converge\n",
            "\n",
            "/usr/local/lib/python3.7/dist-packages/sklearn/linear_model/_sag.py:354: ConvergenceWarning:\n",
            "\n",
            "The max_iter was reached which means the coef_ did not converge\n",
            "\n",
            "/usr/local/lib/python3.7/dist-packages/sklearn/linear_model/_sag.py:354: ConvergenceWarning:\n",
            "\n",
            "The max_iter was reached which means the coef_ did not converge\n",
            "\n",
            "/usr/local/lib/python3.7/dist-packages/sklearn/linear_model/_sag.py:354: ConvergenceWarning:\n",
            "\n",
            "The max_iter was reached which means the coef_ did not converge\n",
            "\n",
            "/usr/local/lib/python3.7/dist-packages/sklearn/linear_model/_sag.py:354: ConvergenceWarning:\n",
            "\n",
            "The max_iter was reached which means the coef_ did not converge\n",
            "\n",
            "/usr/local/lib/python3.7/dist-packages/sklearn/linear_model/_sag.py:354: ConvergenceWarning:\n",
            "\n",
            "The max_iter was reached which means the coef_ did not converge\n",
            "\n",
            "/usr/local/lib/python3.7/dist-packages/sklearn/linear_model/_sag.py:354: ConvergenceWarning:\n",
            "\n",
            "The max_iter was reached which means the coef_ did not converge\n",
            "\n",
            "/usr/local/lib/python3.7/dist-packages/sklearn/linear_model/_sag.py:354: ConvergenceWarning:\n",
            "\n",
            "The max_iter was reached which means the coef_ did not converge\n",
            "\n",
            "/usr/local/lib/python3.7/dist-packages/sklearn/linear_model/_sag.py:354: ConvergenceWarning:\n",
            "\n",
            "The max_iter was reached which means the coef_ did not converge\n",
            "\n",
            "/usr/local/lib/python3.7/dist-packages/sklearn/linear_model/_sag.py:354: ConvergenceWarning:\n",
            "\n",
            "The max_iter was reached which means the coef_ did not converge\n",
            "\n",
            "/usr/local/lib/python3.7/dist-packages/sklearn/linear_model/_sag.py:354: ConvergenceWarning:\n",
            "\n",
            "The max_iter was reached which means the coef_ did not converge\n",
            "\n",
            "/usr/local/lib/python3.7/dist-packages/sklearn/linear_model/_sag.py:354: ConvergenceWarning:\n",
            "\n",
            "The max_iter was reached which means the coef_ did not converge\n",
            "\n",
            "/usr/local/lib/python3.7/dist-packages/sklearn/linear_model/_sag.py:354: ConvergenceWarning:\n",
            "\n",
            "The max_iter was reached which means the coef_ did not converge\n",
            "\n",
            "/usr/local/lib/python3.7/dist-packages/sklearn/linear_model/_sag.py:354: ConvergenceWarning:\n",
            "\n",
            "The max_iter was reached which means the coef_ did not converge\n",
            "\n",
            "/usr/local/lib/python3.7/dist-packages/sklearn/linear_model/_sag.py:354: ConvergenceWarning:\n",
            "\n",
            "The max_iter was reached which means the coef_ did not converge\n",
            "\n",
            "/usr/local/lib/python3.7/dist-packages/sklearn/linear_model/_sag.py:354: ConvergenceWarning:\n",
            "\n",
            "The max_iter was reached which means the coef_ did not converge\n",
            "\n",
            "/usr/local/lib/python3.7/dist-packages/sklearn/linear_model/_sag.py:354: ConvergenceWarning:\n",
            "\n",
            "The max_iter was reached which means the coef_ did not converge\n",
            "\n",
            "/usr/local/lib/python3.7/dist-packages/sklearn/linear_model/_sag.py:354: ConvergenceWarning:\n",
            "\n",
            "The max_iter was reached which means the coef_ did not converge\n",
            "\n",
            "/usr/local/lib/python3.7/dist-packages/sklearn/linear_model/_sag.py:354: ConvergenceWarning:\n",
            "\n",
            "The max_iter was reached which means the coef_ did not converge\n",
            "\n",
            "/usr/local/lib/python3.7/dist-packages/sklearn/linear_model/_sag.py:354: ConvergenceWarning:\n",
            "\n",
            "The max_iter was reached which means the coef_ did not converge\n",
            "\n",
            "/usr/local/lib/python3.7/dist-packages/sklearn/linear_model/_sag.py:354: ConvergenceWarning:\n",
            "\n",
            "The max_iter was reached which means the coef_ did not converge\n",
            "\n",
            "/usr/local/lib/python3.7/dist-packages/sklearn/linear_model/_sag.py:354: ConvergenceWarning:\n",
            "\n",
            "The max_iter was reached which means the coef_ did not converge\n",
            "\n",
            "/usr/local/lib/python3.7/dist-packages/sklearn/linear_model/_sag.py:354: ConvergenceWarning:\n",
            "\n",
            "The max_iter was reached which means the coef_ did not converge\n",
            "\n",
            "/usr/local/lib/python3.7/dist-packages/sklearn/linear_model/_sag.py:354: ConvergenceWarning:\n",
            "\n",
            "The max_iter was reached which means the coef_ did not converge\n",
            "\n",
            "/usr/local/lib/python3.7/dist-packages/sklearn/linear_model/_sag.py:354: ConvergenceWarning:\n",
            "\n",
            "The max_iter was reached which means the coef_ did not converge\n",
            "\n",
            "/usr/local/lib/python3.7/dist-packages/sklearn/linear_model/_sag.py:354: ConvergenceWarning:\n",
            "\n",
            "The max_iter was reached which means the coef_ did not converge\n",
            "\n",
            "/usr/local/lib/python3.7/dist-packages/sklearn/linear_model/_sag.py:354: ConvergenceWarning:\n",
            "\n",
            "The max_iter was reached which means the coef_ did not converge\n",
            "\n",
            "/usr/local/lib/python3.7/dist-packages/sklearn/linear_model/_sag.py:354: ConvergenceWarning:\n",
            "\n",
            "The max_iter was reached which means the coef_ did not converge\n",
            "\n",
            "/usr/local/lib/python3.7/dist-packages/sklearn/linear_model/_sag.py:354: ConvergenceWarning:\n",
            "\n",
            "The max_iter was reached which means the coef_ did not converge\n",
            "\n",
            "/usr/local/lib/python3.7/dist-packages/sklearn/linear_model/_sag.py:354: ConvergenceWarning:\n",
            "\n",
            "The max_iter was reached which means the coef_ did not converge\n",
            "\n",
            "/usr/local/lib/python3.7/dist-packages/sklearn/linear_model/_sag.py:354: ConvergenceWarning:\n",
            "\n",
            "The max_iter was reached which means the coef_ did not converge\n",
            "\n",
            "/usr/local/lib/python3.7/dist-packages/sklearn/linear_model/_sag.py:354: ConvergenceWarning:\n",
            "\n",
            "The max_iter was reached which means the coef_ did not converge\n",
            "\n",
            "/usr/local/lib/python3.7/dist-packages/sklearn/linear_model/_sag.py:354: ConvergenceWarning:\n",
            "\n",
            "The max_iter was reached which means the coef_ did not converge\n",
            "\n",
            "/usr/local/lib/python3.7/dist-packages/sklearn/linear_model/_sag.py:354: ConvergenceWarning:\n",
            "\n",
            "The max_iter was reached which means the coef_ did not converge\n",
            "\n",
            "/usr/local/lib/python3.7/dist-packages/sklearn/linear_model/_sag.py:354: ConvergenceWarning:\n",
            "\n",
            "The max_iter was reached which means the coef_ did not converge\n",
            "\n",
            "/usr/local/lib/python3.7/dist-packages/sklearn/linear_model/_sag.py:354: ConvergenceWarning:\n",
            "\n",
            "The max_iter was reached which means the coef_ did not converge\n",
            "\n",
            "/usr/local/lib/python3.7/dist-packages/sklearn/linear_model/_sag.py:354: ConvergenceWarning:\n",
            "\n",
            "The max_iter was reached which means the coef_ did not converge\n",
            "\n",
            "/usr/local/lib/python3.7/dist-packages/sklearn/linear_model/_sag.py:354: ConvergenceWarning:\n",
            "\n",
            "The max_iter was reached which means the coef_ did not converge\n",
            "\n",
            "/usr/local/lib/python3.7/dist-packages/sklearn/linear_model/_sag.py:354: ConvergenceWarning:\n",
            "\n",
            "The max_iter was reached which means the coef_ did not converge\n",
            "\n",
            "/usr/local/lib/python3.7/dist-packages/sklearn/linear_model/_sag.py:354: ConvergenceWarning:\n",
            "\n",
            "The max_iter was reached which means the coef_ did not converge\n",
            "\n",
            "/usr/local/lib/python3.7/dist-packages/sklearn/linear_model/_sag.py:354: ConvergenceWarning:\n",
            "\n",
            "The max_iter was reached which means the coef_ did not converge\n",
            "\n",
            "/usr/local/lib/python3.7/dist-packages/sklearn/linear_model/_sag.py:354: ConvergenceWarning:\n",
            "\n",
            "The max_iter was reached which means the coef_ did not converge\n",
            "\n",
            "/usr/local/lib/python3.7/dist-packages/sklearn/linear_model/_sag.py:354: ConvergenceWarning:\n",
            "\n",
            "The max_iter was reached which means the coef_ did not converge\n",
            "\n",
            "/usr/local/lib/python3.7/dist-packages/sklearn/linear_model/_sag.py:354: ConvergenceWarning:\n",
            "\n",
            "The max_iter was reached which means the coef_ did not converge\n",
            "\n",
            "/usr/local/lib/python3.7/dist-packages/sklearn/linear_model/_sag.py:354: ConvergenceWarning:\n",
            "\n",
            "The max_iter was reached which means the coef_ did not converge\n",
            "\n",
            "/usr/local/lib/python3.7/dist-packages/sklearn/linear_model/_sag.py:354: ConvergenceWarning:\n",
            "\n",
            "The max_iter was reached which means the coef_ did not converge\n",
            "\n",
            "/usr/local/lib/python3.7/dist-packages/sklearn/linear_model/_sag.py:354: ConvergenceWarning:\n",
            "\n",
            "The max_iter was reached which means the coef_ did not converge\n",
            "\n",
            "/usr/local/lib/python3.7/dist-packages/sklearn/linear_model/_sag.py:354: ConvergenceWarning:\n",
            "\n",
            "The max_iter was reached which means the coef_ did not converge\n",
            "\n",
            "/usr/local/lib/python3.7/dist-packages/sklearn/linear_model/_sag.py:354: ConvergenceWarning:\n",
            "\n",
            "The max_iter was reached which means the coef_ did not converge\n",
            "\n",
            "/usr/local/lib/python3.7/dist-packages/sklearn/linear_model/_sag.py:354: ConvergenceWarning:\n",
            "\n",
            "The max_iter was reached which means the coef_ did not converge\n",
            "\n"
          ]
        },
        {
          "output_type": "stream",
          "name": "stdout",
          "text": [
            "Accuracy =  0.8149606299212598\n",
            "-\n",
            "[[77  0  0  1]\n",
            " [ 1 35 10  1]\n",
            " [ 4 27 39  1]\n",
            " [ 1  1  0 56]]\n",
            "-\n",
            "              precision    recall  f1-score   support\n",
            "\n",
            "         bus       0.93      0.99      0.96        78\n",
            "        opel       0.56      0.74      0.64        47\n",
            "        saab       0.80      0.55      0.65        71\n",
            "         van       0.95      0.97      0.96        58\n",
            "\n",
            "    accuracy                           0.81       254\n",
            "   macro avg       0.81      0.81      0.80       254\n",
            "weighted avg       0.83      0.81      0.81       254\n",
            "\n",
            "-\n"
          ]
        },
        {
          "output_type": "stream",
          "name": "stderr",
          "text": [
            "/usr/local/lib/python3.7/dist-packages/sklearn/linear_model/_sag.py:354: ConvergenceWarning:\n",
            "\n",
            "The max_iter was reached which means the coef_ did not converge\n",
            "\n"
          ]
        },
        {
          "output_type": "display_data",
          "data": {
            "image/png": "[encoded data removed]",
            "text/plain": [
              "<Figure size 360x360 with 1 Axes>"
            ]
          },
          "metadata": {
            "needs_background": "light"
          }
        }
      ]
    },
    {
      "cell_type": "code",
      "metadata": {
        "id": "mAD36W82v1hJ"
      },
      "source": [
        "@ignore_warnings(category=ConvergenceWarning)\n",
        "def optimised_evaluation(X_train, y_train):\n",
        "    \n",
        "    names = ['Gaussian NB', 'k-Nearest Neighbors', 'Logistic Regression']\n",
        "\n",
        "    scores = [  \n",
        "                cross_validate(best_gnb, X, y, cv=10, scoring=scoring_strategies),\n",
        "                cross_validate(best_kNN, X, y, cv=10, scoring=scoring_strategies),\n",
        "                cross_validate(best_Log, X, y, cv=10, scoring=scoring_strategies) ]\n",
        "\n",
        "    return names, scores\n",
        "\n",
        "names, scores = optimised_evaluation(X_train, y_train)"
      ],
      "id": "mAD36W82v1hJ",
      "execution_count": null,
      "outputs": []
    },
    {
      "cell_type": "code",
      "metadata": {
        "colab": {
          "base_uri": "https://localhost:8080/",
          "height": 668
        },
        "id": "XIHQ76dKx5W7",
        "outputId": "db803566-f97e-4e03-897f-e50799121814"
      },
      "source": [
        "plot_scores_of_models(scores, names)\n",
        "\n",
        "for name, score in zip(names, scores):\n",
        "  print(name)\n",
        "  for key in score.keys():\n",
        "    avg = score[key].mean()\n",
        "    print(f\"{key}: {avg:.5f}\")\n",
        "  print(\"\")"
      ],
      "id": "XIHQ76dKx5W7",
      "execution_count": null,
      "outputs": [
        {
          "output_type": "display_data",
          "data": {
            "image/png": "[encoded data removed]",
            "text/plain": [
              "<Figure size 720x360 with 1 Axes>"
            ]
          },
          "metadata": {
            "needs_background": "light"
          }
        },
        {
          "output_type": "stream",
          "name": "stdout",
          "text": [
            "Gaussian NB\n",
            "fit_time: 0.00404\n",
            "score_time: 0.00197\n",
            "test_accuracy: 0.46319\n",
            "test_f1_macro: 0.42727\n",
            "\n",
            "k-Nearest Neighbors\n",
            "fit_time: 0.00223\n",
            "score_time: 0.00402\n",
            "test_accuracy: 0.71410\n",
            "test_f1_macro: 0.70364\n",
            "\n",
            "Logistic Regression\n",
            "fit_time: 1.41028\n",
            "score_time: 0.00199\n",
            "test_accuracy: 0.80277\n",
            "test_f1_macro: 0.80193\n",
            "\n"
          ]
        }
      ]
    },
    {
      "cell_type": "markdown",
      "metadata": {
        "id": "9QdclcfWs9UP"
      },
      "source": [
        "## Συνοπτική σύγκριση out of the box evaluation με τους βελτιστοποιημένους classifiers"
      ],
      "id": "9QdclcfWs9UP"
    },
    {
      "cell_type": "markdown",
      "metadata": {
        "id": "3YD8fUL8sHzo"
      },
      "source": [
        "| Classifier | Fit time | Score time | Accuracy | F1 macro |\n",
        "|------------|----------|------------|----------|-----------------|\n",
        "| GNB (out of the box)      |   0.00216     |   0.00180         |   0.46319       |     0.42713     |\n",
        "| GNB        |   0.00404     |   0.00197         |   0.46319       |     0.42727     |\n",
        "| kNN (out of the box)        |   0.00208     |   0.01047         |   0.65496       |     0.64807     |\n",
        "| kNN     |   0.00223     |   0.00402         |   0.71410       |     0.70364     |\n",
        "| LogReg (out of the box)      |   0.07907     |   0.00178         |   0.72231       |     0.71752     |\n",
        "| LogReg        |   1.41028     |   0.00199         |   0.80277       |     0.80193     |\n"
      ],
      "id": "3YD8fUL8sHzo"
    },
    {
      "cell_type": "markdown",
      "metadata": {
        "id": "XIKZGfnyy76x"
      },
      "source": [
        "Παρατηρούμε σαφή αύξηση του accuracy και του F1 macro σε όλες τους classifiers, με εξαίρεση τον Gaussian Naive-Bayes, εφόσον η μόνη παράμετρος που βοηθάει στην επίδοσή του είναι η var_smoothing, η οποία όπως φαίνεται δεν επηρεάζει σχεδόν καθόλου τα αποτελέσματα."
      ],
      "id": "XIKZGfnyy76x"
    },
    {
      "cell_type": "markdown",
      "metadata": {
        "id": "7Z9TDDlSMgBA"
      },
      "source": [
        "## Pipelines (with PCA)"
      ],
      "id": "7Z9TDDlSMgBA"
    },
    {
      "cell_type": "code",
      "metadata": {
        "id": "JBu_wEvNMgBK"
      },
      "source": [
        "preprocessor = make_pipeline(PCA(n_components=5), StandardScaler())\n",
        "DummyPipeline = make_pipeline(preprocessor, DummyClassifier())\n",
        "GNBPipeline = make_pipeline(preprocessor, GaussianNB())\n",
        "kNNPipeline = make_pipeline(preprocessor, KNeighborsClassifier())\n",
        "LogPipeline = make_pipeline(preprocessor, LogisticRegression())"
      ],
      "id": "JBu_wEvNMgBK",
      "execution_count": null,
      "outputs": []
    },
    {
      "cell_type": "code",
      "metadata": {
        "id": "p-gN25kyMgBL"
      },
      "source": [
        "dict_of_models = {'Dummy': DummyPipeline,\n",
        "                  'GNB': GNBPipeline,\n",
        "                  'kNN': kNNPipeline,\n",
        "                  'Log': LogPipeline}"
      ],
      "id": "p-gN25kyMgBL",
      "execution_count": null,
      "outputs": []
    },
    {
      "cell_type": "code",
      "metadata": {
        "id": "I8NRzsUJMgBL"
      },
      "source": [
        "@ignore_warnings(category=ConvergenceWarning)\n",
        "def evaluation(model):\n",
        "    model.fit(X_train, y_train)\n",
        "    # calculating the predictions\n",
        "    y_pred = model.predict(X_test)\n",
        "    print('Accuracy = ', accuracy_score(y_test, y_pred))\n",
        "    print('-')\n",
        "    print(confusion_matrix(y_test,y_pred))\n",
        "    print('-')\n",
        "    print(classification_report(y_test,y_pred))\n",
        "    print('-')"
      ],
      "id": "I8NRzsUJMgBL",
      "execution_count": null,
      "outputs": []
    },
    {
      "cell_type": "code",
      "metadata": {
        "colab": {
          "base_uri": "https://localhost:8080/"
        },
        "id": "kGo7eb69MgBL",
        "outputId": "9b55d4bd-469b-4a43-9bad-6dce1d2343b6"
      },
      "source": [
        "for name, model in dict_of_models.items():\n",
        "    print('---------------------------------')\n",
        "    print(name)\n",
        "    evaluation(model)"
      ],
      "id": "kGo7eb69MgBL",
      "execution_count": null,
      "outputs": [
        {
          "output_type": "stream",
          "name": "stdout",
          "text": [
            "---------------------------------\n",
            "Dummy\n",
            "Accuracy =  0.18503937007874016\n",
            "-\n",
            "[[ 0 78  0  0]\n",
            " [ 0 47  0  0]\n",
            " [ 0 71  0  0]\n",
            " [ 0 58  0  0]]\n",
            "-\n",
            "              precision    recall  f1-score   support\n",
            "\n",
            "         bus       0.00      0.00      0.00        78\n",
            "        opel       0.19      1.00      0.31        47\n",
            "        saab       0.00      0.00      0.00        71\n",
            "         van       0.00      0.00      0.00        58\n",
            "\n",
            "    accuracy                           0.19       254\n",
            "   macro avg       0.05      0.25      0.08       254\n",
            "weighted avg       0.03      0.19      0.06       254\n",
            "\n",
            "-\n",
            "---------------------------------\n",
            "GNB\n",
            "Accuracy =  0.4566929133858268\n",
            "-\n",
            "[[27 13  2 36]\n",
            " [ 5 21 12  9]\n",
            " [11 27 23 10]\n",
            " [ 2  6  5 45]]\n",
            "-\n",
            "              precision    recall  f1-score   support\n",
            "\n",
            "         bus       0.60      0.35      0.44        78\n",
            "        opel       0.31      0.45      0.37        47\n",
            "        saab       0.55      0.32      0.41        71\n",
            "         van       0.45      0.78      0.57        58\n",
            "\n",
            "    accuracy                           0.46       254\n",
            "   macro avg       0.48      0.47      0.45       254\n",
            "weighted avg       0.50      0.46      0.45       254\n",
            "\n",
            "-\n",
            "---------------------------------\n",
            "kNN\n",
            "Accuracy =  0.610236220472441\n",
            "-\n",
            "[[62 10  4  2]\n",
            " [ 2 25 15  5]\n",
            " [ 7 32 25  7]\n",
            " [ 5  6  4 43]]\n",
            "-\n",
            "              precision    recall  f1-score   support\n",
            "\n",
            "         bus       0.82      0.79      0.81        78\n",
            "        opel       0.34      0.53      0.42        47\n",
            "        saab       0.52      0.35      0.42        71\n",
            "         van       0.75      0.74      0.75        58\n",
            "\n",
            "    accuracy                           0.61       254\n",
            "   macro avg       0.61      0.61      0.60       254\n",
            "weighted avg       0.63      0.61      0.61       254\n",
            "\n",
            "-\n",
            "---------------------------------\n",
            "Log\n",
            "Accuracy =  0.515748031496063\n",
            "-\n",
            "[[52 11  0 15]\n",
            " [ 6 25  9  7]\n",
            " [17 33 15  6]\n",
            " [ 7 11  1 39]]\n",
            "-\n",
            "              precision    recall  f1-score   support\n",
            "\n",
            "         bus       0.63      0.67      0.65        78\n",
            "        opel       0.31      0.53      0.39        47\n",
            "        saab       0.60      0.21      0.31        71\n",
            "         van       0.58      0.67      0.62        58\n",
            "\n",
            "    accuracy                           0.52       254\n",
            "   macro avg       0.53      0.52      0.50       254\n",
            "weighted avg       0.55      0.52      0.50       254\n",
            "\n",
            "-\n"
          ]
        },
        {
          "output_type": "stream",
          "name": "stderr",
          "text": [
            "/usr/local/lib/python3.7/dist-packages/sklearn/metrics/_classification.py:1308: UndefinedMetricWarning:\n",
            "\n",
            "Precision and F-score are ill-defined and being set to 0.0 in labels with no predicted samples. Use `zero_division` parameter to control this behavior.\n",
            "\n",
            "/usr/local/lib/python3.7/dist-packages/sklearn/metrics/_classification.py:1308: UndefinedMetricWarning:\n",
            "\n",
            "Precision and F-score are ill-defined and being set to 0.0 in labels with no predicted samples. Use `zero_division` parameter to control this behavior.\n",
            "\n",
            "/usr/local/lib/python3.7/dist-packages/sklearn/metrics/_classification.py:1308: UndefinedMetricWarning:\n",
            "\n",
            "Precision and F-score are ill-defined and being set to 0.0 in labels with no predicted samples. Use `zero_division` parameter to control this behavior.\n",
            "\n"
          ]
        }
      ]
    },
    {
      "cell_type": "code",
      "metadata": {
        "colab": {
          "base_uri": "https://localhost:8080/",
          "height": 652
        },
        "id": "1oHKU0noMgBL",
        "outputId": "03957032-04d0-4789-ed5c-5c5f4c31eaa0"
      },
      "source": [
        "parameters = { \n",
        "    'gaussiannb__var_smoothing': [1e-2, 1e-3, 1e-4, 1e-5, 1e-6, 1e-7, 1e-8, 1e-9, 1e-10, 1e-11, 1e-12, 1e-13, 1e-14, 1e-15]\n",
        "}\n",
        "\n",
        "gnb_grid = GridSearchCV(GNBPipeline, parameters, scoring='accuracy')\n",
        "gnb_grid.fit(X_train, y_train)\n",
        "\n",
        "best_gnb = (gnb_grid.best_estimator_)\n",
        "best_gnb.fit(X_train,y_train)\n",
        "# calculating the predictions\n",
        "y_pred = best_gnb.predict(X_test)\n",
        "\n",
        "N, train_score, test_score = learning_curve(best_gnb, X_train, y_train, \n",
        "                                           cv=10, scoring='accuracy', \n",
        "                                           train_sizes=np.linspace(0.1,1,10))\n",
        "print('Accuracy = ', accuracy_score(y_test, y_pred))\n",
        "print('-')\n",
        "print(confusion_matrix(y_test,y_pred))\n",
        "print('-')\n",
        "print(classification_report(y_test,y_pred))\n",
        "print('-')\n",
        "    \n",
        "plt.figure(figsize=(5,5))\n",
        "plt.plot(N, train_score.mean(axis=1), label='train score')\n",
        "plt.plot(N, test_score.mean(axis=1), label='validation score')\n",
        "plt.legend()\n",
        "plt.title('Accuracy')\n",
        "plt.show()"
      ],
      "id": "1oHKU0noMgBL",
      "execution_count": null,
      "outputs": [
        {
          "output_type": "stream",
          "name": "stdout",
          "text": [
            "Accuracy =  0.4566929133858268\n",
            "-\n",
            "[[27 13  2 36]\n",
            " [ 5 21 12  9]\n",
            " [11 27 23 10]\n",
            " [ 2  6  5 45]]\n",
            "-\n",
            "              precision    recall  f1-score   support\n",
            "\n",
            "         bus       0.60      0.35      0.44        78\n",
            "        opel       0.31      0.45      0.37        47\n",
            "        saab       0.55      0.32      0.41        71\n",
            "         van       0.45      0.78      0.57        58\n",
            "\n",
            "    accuracy                           0.46       254\n",
            "   macro avg       0.48      0.47      0.45       254\n",
            "weighted avg       0.50      0.46      0.45       254\n",
            "\n",
            "-\n"
          ]
        },
        {
          "output_type": "display_data",
          "data": {
            "image/png": "[encoded data removed]",
            "text/plain": [
              "<Figure size 360x360 with 1 Axes>"
            ]
          },
          "metadata": {
            "needs_background": "light"
          }
        }
      ]
    },
    {
      "cell_type": "code",
      "metadata": {
        "colab": {
          "base_uri": "https://localhost:8080/",
          "height": 652
        },
        "id": "__3QWa7-MgBM",
        "outputId": "c29e9475-008f-4efa-aacf-c4bdf9d49ba3"
      },
      "source": [
        "parameters = { \n",
        "    'kneighborsclassifier__n_neighbors': [1, 3, 5, 7, 9, 11, 13, 15, 17, 19, 21, 23],\n",
        "    'kneighborsclassifier__weights': ['uniform', 'distance'],\n",
        "    'kneighborsclassifier__metric': ['euclidean', 'manhattan']\n",
        "}\n",
        "\n",
        "kNN_grid = GridSearchCV(kNNPipeline, parameters, scoring='accuracy', n_jobs=-1)\n",
        "kNN_grid.fit(X_train, y_train)\n",
        "\n",
        "best_kNN = (kNN_grid.best_estimator_)\n",
        "best_kNN.fit(X_train,y_train)\n",
        "# calculating the predictions\n",
        "y_pred = best_kNN.predict(X_test)\n",
        "\n",
        "N, train_score, test_score = learning_curve(best_kNN, X_train, y_train, \n",
        "                                           cv=10, scoring='accuracy', \n",
        "                                           train_sizes=np.linspace(0.1,1,10))\n",
        "print('Accuracy = ', accuracy_score(y_test, y_pred))\n",
        "print('-')\n",
        "print(confusion_matrix(y_test,y_pred))\n",
        "print('-')\n",
        "print(classification_report(y_test,y_pred))\n",
        "print('-')\n",
        "    \n",
        "plt.figure(figsize=(5,5))\n",
        "plt.plot(N, train_score.mean(axis=1), label='train score')\n",
        "plt.plot(N, test_score.mean(axis=1), label='validation score')\n",
        "plt.legend()\n",
        "plt.title('Accuracy')\n",
        "plt.show()"
      ],
      "id": "__3QWa7-MgBM",
      "execution_count": null,
      "outputs": [
        {
          "output_type": "stream",
          "name": "stdout",
          "text": [
            "Accuracy =  0.5905511811023622\n",
            "-\n",
            "[[61 11  4  2]\n",
            " [ 1 21 19  6]\n",
            " [ 6 32 22 11]\n",
            " [ 6  2  4 46]]\n",
            "-\n",
            "              precision    recall  f1-score   support\n",
            "\n",
            "         bus       0.82      0.78      0.80        78\n",
            "        opel       0.32      0.45      0.37        47\n",
            "        saab       0.45      0.31      0.37        71\n",
            "         van       0.71      0.79      0.75        58\n",
            "\n",
            "    accuracy                           0.59       254\n",
            "   macro avg       0.57      0.58      0.57       254\n",
            "weighted avg       0.60      0.59      0.59       254\n",
            "\n",
            "-\n"
          ]
        },
        {
          "output_type": "display_data",
          "data": {
            "image/png": "[encoded data removed]",
            "text/plain": [
              "<Figure size 360x360 with 1 Axes>"
            ]
          },
          "metadata": {
            "needs_background": "light"
          }
        }
      ]
    },
    {
      "cell_type": "code",
      "metadata": {
        "colab": {
          "base_uri": "https://localhost:8080/",
          "height": 1000
        },
        "id": "afbWdJrHMgBM",
        "outputId": "afac3bfc-edcb-4db3-c133-d0b119b4d1dc"
      },
      "source": [
        "@ignore_warnings(category=ConvergenceWarning)\n",
        "def evaluate_log_regression():\n",
        "    parameters = {\n",
        "        'logisticregression__penalty': ['l1', 'l2', 'elasticnet'],\n",
        "        'logisticregression__C': np.logspace(1, 1, 10),\n",
        "        'logisticregression__solver': ['newton-cg', 'lbfgs', 'liblinear', 'sag', 'saga'],\n",
        "        'logisticregression__max_iter': [2000]\n",
        "    }\n",
        "\n",
        "    Log_grid = GridSearchCV(LogPipeline, parameters, scoring='accuracy', n_jobs=-1)\n",
        "    Log_grid.fit(X_train, y_train)\n",
        "\n",
        "    best_Log = (Log_grid.best_estimator_)\n",
        "    best_Log.fit(X_train,y_train)\n",
        "    # calculating the predictions\n",
        "    y_pred = best_Log.predict(X_test)\n",
        "\n",
        "    N, train_score, test_score = learning_curve(best_Log, X_train, y_train, \n",
        "                                               cv=10, scoring='accuracy', \n",
        "                                               train_sizes=np.linspace(0.1,1,10))\n",
        "    print('Accuracy = ', accuracy_score(y_test, y_pred))\n",
        "    print('-')\n",
        "    print(confusion_matrix(y_test,y_pred))\n",
        "    print('-')\n",
        "    print(classification_report(y_test,y_pred))\n",
        "    print('-')\n",
        "\n",
        "    plt.figure(figsize=(5,5))\n",
        "    plt.plot(N, train_score.mean(axis=1), label='train score')\n",
        "    plt.plot(N, test_score.mean(axis=1), label='validation score')\n",
        "    plt.legend()\n",
        "    plt.title('Accuracy')\n",
        "    plt.show()\n",
        "    \n",
        "evaluate_log_regression()"
      ],
      "id": "afbWdJrHMgBM",
      "execution_count": null,
      "outputs": [
        {
          "output_type": "stream",
          "name": "stderr",
          "text": [
            "/usr/local/lib/python3.7/dist-packages/sklearn/model_selection/_validation.py:372: FitFailedWarning:\n",
            "\n",
            "\n",
            "400 fits failed out of a total of 750.\n",
            "The score on these train-test partitions for these parameters will be set to nan.\n",
            "If these failures are not expected, you can try to debug them by setting error_score='raise'.\n",
            "\n",
            "Below are more details about the failures:\n",
            "--------------------------------------------------------------------------------\n",
            "50 fits failed with the following error:\n",
            "Traceback (most recent call last):\n",
            "  File \"/usr/local/lib/python3.7/dist-packages/sklearn/model_selection/_validation.py\", line 681, in _fit_and_score\n",
            "    estimator.fit(X_train, y_train, **fit_params)\n",
            "  File \"/usr/local/lib/python3.7/dist-packages/sklearn/pipeline.py\", line 394, in fit\n",
            "    self._final_estimator.fit(Xt, y, **fit_params_last_step)\n",
            "  File \"/usr/local/lib/python3.7/dist-packages/sklearn/linear_model/_logistic.py\", line 1461, in fit\n",
            "    solver = _check_solver(self.solver, self.penalty, self.dual)\n",
            "  File \"/usr/local/lib/python3.7/dist-packages/sklearn/linear_model/_logistic.py\", line 449, in _check_solver\n",
            "    % (solver, penalty)\n",
            "ValueError: Solver newton-cg supports only 'l2' or 'none' penalties, got l1 penalty.\n",
            "\n",
            "--------------------------------------------------------------------------------\n",
            "50 fits failed with the following error:\n",
            "Traceback (most recent call last):\n",
            "  File \"/usr/local/lib/python3.7/dist-packages/sklearn/model_selection/_validation.py\", line 681, in _fit_and_score\n",
            "    estimator.fit(X_train, y_train, **fit_params)\n",
            "  File \"/usr/local/lib/python3.7/dist-packages/sklearn/pipeline.py\", line 394, in fit\n",
            "    self._final_estimator.fit(Xt, y, **fit_params_last_step)\n",
            "  File \"/usr/local/lib/python3.7/dist-packages/sklearn/linear_model/_logistic.py\", line 1461, in fit\n",
            "    solver = _check_solver(self.solver, self.penalty, self.dual)\n",
            "  File \"/usr/local/lib/python3.7/dist-packages/sklearn/linear_model/_logistic.py\", line 449, in _check_solver\n",
            "    % (solver, penalty)\n",
            "ValueError: Solver lbfgs supports only 'l2' or 'none' penalties, got l1 penalty.\n",
            "\n",
            "--------------------------------------------------------------------------------\n",
            "50 fits failed with the following error:\n",
            "Traceback (most recent call last):\n",
            "  File \"/usr/local/lib/python3.7/dist-packages/sklearn/model_selection/_validation.py\", line 681, in _fit_and_score\n",
            "    estimator.fit(X_train, y_train, **fit_params)\n",
            "  File \"/usr/local/lib/python3.7/dist-packages/sklearn/pipeline.py\", line 394, in fit\n",
            "    self._final_estimator.fit(Xt, y, **fit_params_last_step)\n",
            "  File \"/usr/local/lib/python3.7/dist-packages/sklearn/linear_model/_logistic.py\", line 1461, in fit\n",
            "    solver = _check_solver(self.solver, self.penalty, self.dual)\n",
            "  File \"/usr/local/lib/python3.7/dist-packages/sklearn/linear_model/_logistic.py\", line 449, in _check_solver\n",
            "    % (solver, penalty)\n",
            "ValueError: Solver sag supports only 'l2' or 'none' penalties, got l1 penalty.\n",
            "\n",
            "--------------------------------------------------------------------------------\n",
            "50 fits failed with the following error:\n",
            "Traceback (most recent call last):\n",
            "  File \"/usr/local/lib/python3.7/dist-packages/sklearn/model_selection/_validation.py\", line 681, in _fit_and_score\n",
            "    estimator.fit(X_train, y_train, **fit_params)\n",
            "  File \"/usr/local/lib/python3.7/dist-packages/sklearn/pipeline.py\", line 394, in fit\n",
            "    self._final_estimator.fit(Xt, y, **fit_params_last_step)\n",
            "  File \"/usr/local/lib/python3.7/dist-packages/sklearn/linear_model/_logistic.py\", line 1461, in fit\n",
            "    solver = _check_solver(self.solver, self.penalty, self.dual)\n",
            "  File \"/usr/local/lib/python3.7/dist-packages/sklearn/linear_model/_logistic.py\", line 449, in _check_solver\n",
            "    % (solver, penalty)\n",
            "ValueError: Solver newton-cg supports only 'l2' or 'none' penalties, got elasticnet penalty.\n",
            "\n",
            "--------------------------------------------------------------------------------\n",
            "50 fits failed with the following error:\n",
            "Traceback (most recent call last):\n",
            "  File \"/usr/local/lib/python3.7/dist-packages/sklearn/model_selection/_validation.py\", line 681, in _fit_and_score\n",
            "    estimator.fit(X_train, y_train, **fit_params)\n",
            "  File \"/usr/local/lib/python3.7/dist-packages/sklearn/pipeline.py\", line 394, in fit\n",
            "    self._final_estimator.fit(Xt, y, **fit_params_last_step)\n",
            "  File \"/usr/local/lib/python3.7/dist-packages/sklearn/linear_model/_logistic.py\", line 1461, in fit\n",
            "    solver = _check_solver(self.solver, self.penalty, self.dual)\n",
            "  File \"/usr/local/lib/python3.7/dist-packages/sklearn/linear_model/_logistic.py\", line 449, in _check_solver\n",
            "    % (solver, penalty)\n",
            "ValueError: Solver lbfgs supports only 'l2' or 'none' penalties, got elasticnet penalty.\n",
            "\n",
            "--------------------------------------------------------------------------------\n",
            "50 fits failed with the following error:\n",
            "Traceback (most recent call last):\n",
            "  File \"/usr/local/lib/python3.7/dist-packages/sklearn/model_selection/_validation.py\", line 681, in _fit_and_score\n",
            "    estimator.fit(X_train, y_train, **fit_params)\n",
            "  File \"/usr/local/lib/python3.7/dist-packages/sklearn/pipeline.py\", line 394, in fit\n",
            "    self._final_estimator.fit(Xt, y, **fit_params_last_step)\n",
            "  File \"/usr/local/lib/python3.7/dist-packages/sklearn/linear_model/_logistic.py\", line 1461, in fit\n",
            "    solver = _check_solver(self.solver, self.penalty, self.dual)\n",
            "  File \"/usr/local/lib/python3.7/dist-packages/sklearn/linear_model/_logistic.py\", line 459, in _check_solver\n",
            "    solver\n",
            "ValueError: Only 'saga' solver supports elasticnet penalty, got solver=liblinear.\n",
            "\n",
            "--------------------------------------------------------------------------------\n",
            "50 fits failed with the following error:\n",
            "Traceback (most recent call last):\n",
            "  File \"/usr/local/lib/python3.7/dist-packages/sklearn/model_selection/_validation.py\", line 681, in _fit_and_score\n",
            "    estimator.fit(X_train, y_train, **fit_params)\n",
            "  File \"/usr/local/lib/python3.7/dist-packages/sklearn/pipeline.py\", line 394, in fit\n",
            "    self._final_estimator.fit(Xt, y, **fit_params_last_step)\n",
            "  File \"/usr/local/lib/python3.7/dist-packages/sklearn/linear_model/_logistic.py\", line 1461, in fit\n",
            "    solver = _check_solver(self.solver, self.penalty, self.dual)\n",
            "  File \"/usr/local/lib/python3.7/dist-packages/sklearn/linear_model/_logistic.py\", line 449, in _check_solver\n",
            "    % (solver, penalty)\n",
            "ValueError: Solver sag supports only 'l2' or 'none' penalties, got elasticnet penalty.\n",
            "\n",
            "--------------------------------------------------------------------------------\n",
            "50 fits failed with the following error:\n",
            "Traceback (most recent call last):\n",
            "  File \"/usr/local/lib/python3.7/dist-packages/sklearn/model_selection/_validation.py\", line 681, in _fit_and_score\n",
            "    estimator.fit(X_train, y_train, **fit_params)\n",
            "  File \"/usr/local/lib/python3.7/dist-packages/sklearn/pipeline.py\", line 394, in fit\n",
            "    self._final_estimator.fit(Xt, y, **fit_params_last_step)\n",
            "  File \"/usr/local/lib/python3.7/dist-packages/sklearn/linear_model/_logistic.py\", line 1473, in fit\n",
            "    % self.l1_ratio\n",
            "ValueError: l1_ratio must be between 0 and 1; got (l1_ratio=None)\n",
            "\n",
            "\n",
            "/usr/local/lib/python3.7/dist-packages/sklearn/model_selection/_search.py:972: UserWarning:\n",
            "\n",
            "One or more of the test scores are non-finite: [       nan        nan 0.52532403        nan 0.53710298 0.53710298\n",
            " 0.53710298 0.52362911 0.53710298 0.53710298        nan        nan\n",
            "        nan        nan        nan        nan        nan 0.52532403\n",
            "        nan 0.53710298 0.53710298 0.53710298 0.52362911 0.53710298\n",
            " 0.53710298        nan        nan        nan        nan        nan\n",
            "        nan        nan 0.52532403        nan 0.53710298 0.53710298\n",
            " 0.53710298 0.52362911 0.53710298 0.53710298        nan        nan\n",
            "        nan        nan        nan        nan        nan 0.52532403\n",
            "        nan 0.53710298 0.53710298 0.53710298 0.52362911 0.53710298\n",
            " 0.53710298        nan        nan        nan        nan        nan\n",
            "        nan        nan 0.52532403        nan 0.53710298 0.53710298\n",
            " 0.53710298 0.52362911 0.53710298 0.53710298        nan        nan\n",
            "        nan        nan        nan        nan        nan 0.52532403\n",
            "        nan 0.53710298 0.53710298 0.53710298 0.52362911 0.53710298\n",
            " 0.53710298        nan        nan        nan        nan        nan\n",
            "        nan        nan 0.52532403        nan 0.53710298 0.53710298\n",
            " 0.53710298 0.52362911 0.53710298 0.53710298        nan        nan\n",
            "        nan        nan        nan        nan        nan 0.52532403\n",
            "        nan 0.53710298 0.53710298 0.53710298 0.52362911 0.53710298\n",
            " 0.53710298        nan        nan        nan        nan        nan\n",
            "        nan        nan 0.52532403        nan 0.53710298 0.53710298\n",
            " 0.53710298 0.52362911 0.53710298 0.53710298        nan        nan\n",
            "        nan        nan        nan        nan        nan 0.52532403\n",
            "        nan 0.53710298 0.53710298 0.53710298 0.52362911 0.53710298\n",
            " 0.53710298        nan        nan        nan        nan        nan]\n",
            "\n"
          ]
        },
        {
          "output_type": "stream",
          "name": "stdout",
          "text": [
            "Accuracy =  0.5078740157480315\n",
            "-\n",
            "[[52 11  0 15]\n",
            " [ 6 25  9  7]\n",
            " [17 33 14  7]\n",
            " [ 5 13  2 38]]\n",
            "-\n",
            "              precision    recall  f1-score   support\n",
            "\n",
            "         bus       0.65      0.67      0.66        78\n",
            "        opel       0.30      0.53      0.39        47\n",
            "        saab       0.56      0.20      0.29        71\n",
            "         van       0.57      0.66      0.61        58\n",
            "\n",
            "    accuracy                           0.51       254\n",
            "   macro avg       0.52      0.51      0.49       254\n",
            "weighted avg       0.54      0.51      0.49       254\n",
            "\n",
            "-\n"
          ]
        },
        {
          "output_type": "display_data",
          "data": {
            "image/png": "[encoded data removed]",
            "text/plain": [
              "<Figure size 360x360 with 1 Axes>"
            ]
          },
          "metadata": {
            "needs_background": "light"
          }
        }
      ]
    },
    {
      "cell_type": "markdown",
      "metadata": {
        "id": "JxH0Ej-Mk2wF"
      },
      "source": [
        "Παρατηρούμε πως μειώνοντας τις διαστάσεις με PCA, όπως περιμέναμε, μειώνεται η ακρίβεια, αλλά εκπαιδεύονται σε μικρότερο χρονικό διάστημα."
      ],
      "id": "JxH0Ej-Mk2wF"
    },
    {
      "cell_type": "markdown",
      "metadata": {
        "id": "nSH-48SLz-cN"
      },
      "source": [
        "## Τελικά συμπεράσματα"
      ],
      "id": "nSH-48SLz-cN"
    },
    {
      "cell_type": "markdown",
      "metadata": {
        "id": "ykZ9pC0L0B-e"
      },
      "source": [
        "Ο καλύτερος ταξινομητής είναι ο 'Logistic Regression' ενώ ο χειρότερος ταξινομητής είναι ο 'Gaussian Naive-Bayes'."
      ],
      "id": "ykZ9pC0L0B-e"
    },
    {
      "cell_type": "markdown",
      "metadata": {
        "id": "HlgM0RgZ3rXf"
      },
      "source": [
        "- Gaussian Naive Bayes"
      ],
      "id": "HlgM0RgZ3rXf"
    },
    {
      "cell_type": "code",
      "metadata": {
        "colab": {
          "base_uri": "https://localhost:8080/",
          "height": 265
        },
        "id": "Z6spYBMs0tIZ",
        "outputId": "5f68ac32-79f2-4804-ad4a-aa1cecd19efe"
      },
      "source": [
        "sns.heatmap(GNB_conf_matr, annot=True)\n",
        "plt.show()"
      ],
      "id": "Z6spYBMs0tIZ",
      "execution_count": null,
      "outputs": [
        {
          "output_type": "display_data",
          "data": {
            "image/png": "[encoded data removed]",
            "text/plain": [
              "<Figure size 432x288 with 2 Axes>"
            ]
          },
          "metadata": {
            "needs_background": "light"
          }
        }
      ]
    },
    {
      "cell_type": "markdown",
      "metadata": {
        "id": "Xr5DcHKt3xJv"
      },
      "source": [
        "- Log Regression"
      ],
      "id": "Xr5DcHKt3xJv"
    },
    {
      "cell_type": "code",
      "metadata": {
        "colab": {
          "base_uri": "https://localhost:8080/",
          "height": 265
        },
        "id": "OpABpNrM19I-",
        "outputId": "ee97319e-b2ae-44af-dbdc-81169fb47366"
      },
      "source": [
        "sns.heatmap(Log_conf_matr, annot=True)\n",
        "plt.show()"
      ],
      "id": "OpABpNrM19I-",
      "execution_count": null,
      "outputs": [
        {
          "output_type": "display_data",
          "data": {
            "image/png": "[encoded data removed]",
            "text/plain": [
              "<Figure size 432x288 with 2 Axes>"
            ]
          },
          "metadata": {
            "needs_background": "light"
          }
        }
      ]
    },
    {
      "cell_type": "markdown",
      "metadata": {
        "id": "WpIv44B-2bg1"
      },
      "source": [
        "Παρατηρούμε πως ο 'Logistic Regression' είναι καλύτερος από τον 'Gaussian Naive-Bayes', εφόσον ο δεύτερος υποθέτει πως τα χαρακτηριστικά είναι ανεξάρτητα, ενώ ο πρώτος δουλεύει καλύτερα ακόμα και αν τα χαρακτηριστικά έχουν κάποια συσχέτιση."
      ],
      "id": "WpIv44B-2bg1"
    }
  ]
}