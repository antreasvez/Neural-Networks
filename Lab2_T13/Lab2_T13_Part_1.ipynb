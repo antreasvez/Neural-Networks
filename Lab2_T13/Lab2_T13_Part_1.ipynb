{
  "cells": [
    {
      "cell_type": "markdown",
      "source": [
        "* Παναγιώτης Ζευγολατάκος 03117804\n",
        "* Χατζηθεοδώρου Ιάσων 03117089\n",
        "* Ανδρέας Βεζάκης 03117186"
      ],
      "metadata": {
        "id": "NFPHKn05Bp9N"
      }
    },
    {
      "cell_type": "markdown",
      "metadata": {
        "id": "w0UCq846BOih"
      },
      "source": [
        "# Εφαρμογή 1"
      ]
    },
    {
      "cell_type": "code",
      "execution_count": null,
      "metadata": {
        "id": "NCKtYrQvMESL"
      },
      "outputs": [],
      "source": [
        "import pandas as pd\n",
        "import numpy as np\n",
        "from scipy import sparse\n",
        "from sklearn.feature_extraction.text import TfidfVectorizer\n",
        "from sklearn.metrics.pairwise import cosine_similarity,cosine_distances\n",
        "from sklearn.cluster import KMeans\n",
        "from tabulate import tabulate\n",
        "from gensim.models import Word2Vec\n",
        "import gensim.downloader\n",
        "from gensim.parsing.preprocessing import remove_stopwords, strip_non_alphanum, strip_short\n",
        "import somoclu\n",
        "import matplotlib\n",
        "import matplotlib.pyplot as plt\n",
        "from nltk.stem import PorterStemmer, LancasterStemmer\n",
        "import nltk\n",
        "from nltk.tokenize import sent_tokenize, word_tokenize\n",
        "%matplotlib inline\n",
        "\n",
        "import joblib\n",
        "import random\n",
        "import string\n",
        "from copy import deepcopy\n",
        "import re\n",
        "import multiprocessing"
      ]
    },
    {
      "cell_type": "markdown",
      "metadata": {
        "id": "bR8cRdrXrZCB"
      },
      "source": [
        "## Διαβασμα αρχείων"
      ]
    },
    {
      "cell_type": "code",
      "execution_count": null,
      "metadata": {
        "id": "gVtI6rg3MhRj"
      },
      "outputs": [],
      "source": [
        "dataset_url = \"https://drive.google.com/uc?export=download&id=1-tN5rC1QCgwqL67cvIXdMbtd-Xf9Xqow\"\n",
        "df_data_1 = pd.read_csv(dataset_url, sep='\\t',  header=None, quoting=3)\n",
        "\n",
        "# Στο επόμενη γραμή βάλτε τον αριθμό της ομάδας στο εργαστήριο των νευρωνικών\n",
        "team_seed_number = 13\n",
        "\n",
        "movie_seeds_url = \"https://drive.google.com/uc?export=download&id=1-oeMf7BFmiH70XObgC9WOTo-a9cDJZwP\"\n",
        "df_data_2 = pd.read_csv(movie_seeds_url, header=None)\n",
        "\n",
        "# επιλέγεται \n",
        "my_index = df_data_2.iloc[team_seed_number,:].values\n",
        "\n",
        "titles = df_data_1.iloc[:, [2]].values[my_index] # movie titles (string)\n",
        "categories = df_data_1.iloc[:, [3]].values[my_index] # movie categories (string)\n",
        "bins = df_data_1.iloc[:, [4]]\n",
        "catbins = bins[4].str.split(',', expand=True).values.astype(float)[my_index] # movie categories in binary form (1 feature per category)\n",
        "summaries =  df_data_1.iloc[:, [5]].values[my_index] # movie summaries (string)\n",
        "corpus = summaries[:,0].tolist() # list form of summaries\n",
        "corpus_df = pd.DataFrame(corpus) # dataframe version of corpus"
      ]
    },
    {
      "cell_type": "code",
      "execution_count": null,
      "metadata": {
        "colab": {
          "base_uri": "https://localhost:8080/"
        },
        "id": "iahnm3-zQpzq",
        "outputId": "9e4d5515-4cc8-4c73-81c4-490934df44a0"
      },
      "outputs": [
        {
          "name": "stdout",
          "output_type": "stream",
          "text": [
            "['The Photographer']\n",
            "['\"Comedy\",  \"Indie\"']\n",
            "[0. 0. 0. 0. 0. 0. 0. 0. 0. 0. 0. 0. 0. 0. 0. 0. 0. 0. 0. 0. 0. 0. 0. 0.\n",
            " 0. 0. 0. 0. 0. 0. 0. 0. 0. 0. 0. 0. 0. 0. 0. 0. 0. 0. 0. 0. 0. 0. 0. 0.\n",
            " 0. 0. 0. 0. 0. 0. 0. 0. 0. 0. 0. 0. 0. 0. 0. 0. 0. 0. 0. 1. 0. 0. 0. 0.\n",
            " 0. 0. 0. 0. 0. 0. 0. 0. 0. 0. 0. 0. 0. 0. 0. 0. 0. 0. 0. 0. 0. 0. 0. 0.\n",
            " 0. 0. 0. 0. 0. 0. 0. 0. 0. 0. 0. 0. 0. 0. 0. 0. 0. 0. 0. 0. 0. 0. 0. 0.\n",
            " 0. 0. 0. 0. 0. 0. 0. 0. 0. 0. 0. 0. 0. 0. 0. 0. 0. 0. 0. 0. 0. 0. 0. 0.\n",
            " 0. 0. 0. 0. 0. 0. 0. 0. 0. 0. 0. 0. 0. 0. 0. 0. 0. 0. 0. 0. 0. 0. 0. 0.\n",
            " 0. 0. 0. 0. 0. 0. 0. 0. 0. 0. 0. 1. 0. 0. 0. 0. 0. 0. 0. 0. 0. 0. 0. 0.\n",
            " 0. 0. 0. 0. 0. 0. 0. 0. 0. 0. 0. 0. 0. 0. 0. 0. 0. 0. 0. 0. 0. 0. 0. 0.\n",
            " 0. 0. 0. 0. 0. 0. 0. 0. 0. 0. 0. 0. 0. 0. 0. 0. 0. 0. 0. 0. 0. 0. 0. 0.\n",
            " 0. 0. 0. 0. 0. 0. 0. 0. 0. 0. 0. 0. 0. 0. 0. 0. 0. 0. 0. 0. 0. 0. 0. 0.\n",
            " 0. 0. 0. 0. 0. 0. 0. 0. 0. 0. 0. 0. 0. 0. 0. 0. 0. 0. 0. 0. 0. 0. 0. 0.\n",
            " 0. 0. 0. 0. 0. 0. 0. 0. 0. 0. 0. 0. 0. 0. 0. 0. 0. 0. 0. 0. 0. 0. 0. 0.\n",
            " 0. 0. 0. 0. 0. 0. 0. 0. 0. 0.]\n",
            "A year after becoming the toast of New York City's art scene, photographer Max Martin has lost his ability to take a decent picture. On the night before his make-or-break gallery opening, surrounded by the trappings of success but devoid of inspiration, Max embarks on a bizarre trek through the city in search of ten mysterious photographs that could save his career. Accompanied by an unlikely crew of strangers he meets along the way, Max trips through a modern-day Oz, and rediscovers the easily forgotten value of seeing magic reflected in everyday life.http://www.imdb.com/title/tt0240802/plotsummary\n"
          ]
        }
      ],
      "source": [
        "ID = 999\n",
        "print(titles[ID])\n",
        "print(categories[ID])\n",
        "print(catbins[ID])\n",
        "print(corpus[ID])"
      ]
    },
    {
      "cell_type": "markdown",
      "metadata": {
        "id": "a7sWf-HjRgY8"
      },
      "source": [
        "## Προεπεξεργασία"
      ]
    },
    {
      "cell_type": "markdown",
      "metadata": {
        "id": "w4c9eHPXBOis"
      },
      "source": [
        "Αρχικά, στην προεπεξεργασία μας του corpus, είναι ο καθαρισμός των περιγραφών των ταινιών. Συγκεκριμένα υλοποιήσαμε:\n",
        "- Μετατροπή όλων των χαρακτήρων σε πεζά\n",
        "- Αφαίρεση stopwords, σημείων στίξης και ειδικών χαρακτήρων\n",
        "- Αφαίρεση σύντομων συμβολοσειρών\n",
        "\n",
        "Ακόμη, σε ξεχωριστό cell, δοκιμάσαμε να εφαρμόσουμε stemming (μέθοδος κανονικοποίησης), για περαιτέρω δοκιμές."
      ]
    },
    {
      "cell_type": "code",
      "execution_count": null,
      "metadata": {
        "id": "iaAQa1GCBOit"
      },
      "outputs": [],
      "source": [
        "#nltk.download('punkt')\n",
        "def stemSentence(sentence):\n",
        "    porter = PorterStemmer()\n",
        "    lancaster=LancasterStemmer()\n",
        "    token_words=word_tokenize(sentence)\n",
        "    token_words\n",
        "    stem_sentence=[]\n",
        "    for word in token_words:\n",
        "        stem_sentence.append(porter.stem(word))\n",
        "        #stem_sentence.append(lancaster.stem(word))\n",
        "        stem_sentence.append(\" \")\n",
        "    return \"\".join(stem_sentence)"
      ]
    },
    {
      "cell_type": "code",
      "execution_count": null,
      "metadata": {
        "id": "E7qlraG-BOit"
      },
      "outputs": [],
      "source": [
        "corpus_preprocessed = deepcopy(corpus)\n",
        "\n",
        "# Lowercase\n",
        "corpus_preprocessed = [d.lower() for d in corpus_preprocessed]\n",
        "\n",
        "# Punctuation\n",
        "corpus_preprocessed = [re.sub('[%s]' % re.escape(string.punctuation), '' , d) for d in corpus_preprocessed]\n",
        "\n",
        "# Digits\n",
        "corpus_preprocessed = [strip_non_alphanum(d) for d in corpus_preprocessed]\n",
        "\n",
        "# Short words\n",
        "corpus_preprocessed = [strip_short(d) for d in corpus_preprocessed]\n",
        "\n",
        "# Stopwords\n",
        "corpus_preprocessed = [remove_stopwords(d) for d in corpus_preprocessed]\n",
        "\n",
        "#corpus_preprocessed = [stemSentence(d) for d in corpus_preprocessed]\n",
        "\n",
        "corpus_preprocessed = np.array(corpus_preprocessed)"
      ]
    },
    {
      "cell_type": "code",
      "execution_count": null,
      "metadata": {
        "id": "klKPWXfzBOit",
        "outputId": "b0ccb44e-0273-49f8-d64f-89ec2f2d4931"
      },
      "outputs": [
        {
          "data": {
            "text/plain": [
              "'During the Prohibition era, a young widow, Claire, gets involved in liquor smuggling and romance with two men, Walker and Kibby, off the San Diego coast. Organized crime controls bootlegging back east and wants to do the same here, so a hit man named McTeague is sent to deal with these amateur crooks, as is the Coast Guard, leading to various battles at sea.'"
            ]
          },
          "execution_count": 7,
          "metadata": {},
          "output_type": "execute_result"
        }
      ],
      "source": [
        "corpus[0]"
      ]
    },
    {
      "cell_type": "code",
      "execution_count": null,
      "metadata": {
        "id": "OkTU0f3OBOiu",
        "outputId": "249efdc0-7d61-403e-dc10-b4b6dc4f3cca"
      },
      "outputs": [
        {
          "data": {
            "text/plain": [
              "'prohibition era young widow claire gets involved liquor smuggling romance men walker kibby san diego coast organized crime controls bootlegging east wants hit man named mcteague sent deal amateur crooks coast guard leading battles sea'"
            ]
          },
          "execution_count": 8,
          "metadata": {},
          "output_type": "execute_result"
        }
      ],
      "source": [
        "corpus_preprocessed[0]"
      ]
    },
    {
      "cell_type": "code",
      "execution_count": null,
      "metadata": {
        "id": "_GDjD1aPQtG2"
      },
      "outputs": [],
      "source": [
        "vectorizer = TfidfVectorizer()\n",
        "vectorizer.fit(corpus)\n",
        "corpus_tf_idf_plain = vectorizer.transform(corpus)"
      ]
    },
    {
      "cell_type": "code",
      "execution_count": null,
      "metadata": {
        "colab": {
          "base_uri": "https://localhost:8080/"
        },
        "id": "xKsfS9JSR1-o",
        "outputId": "06f45f9e-ca67-4fd7-f8e5-52548d9078eb"
      },
      "outputs": [
        {
          "name": "stdout",
          "output_type": "stream",
          "text": [
            "(5000, 49146)\n"
          ]
        }
      ],
      "source": [
        "print(corpus_tf_idf_plain.shape)"
      ]
    },
    {
      "cell_type": "markdown",
      "metadata": {
        "id": "PsofzJboY7Zo"
      },
      "source": [
        "## Υλοποίηση του συστήματος συστάσεων"
      ]
    },
    {
      "cell_type": "code",
      "execution_count": null,
      "metadata": {
        "id": "rEqFLSS5Y7Iy"
      },
      "outputs": [],
      "source": [
        "def content_recommender(target_movie,max_recommendations,corpus_type):\n",
        "  #cos_sim = []\n",
        "  #for i in range(corpus_type.shape[0]):   \n",
        "  #  cos_sim.append(cosine_similarity(corpus_type[target_movie],corpus_type[i]))\n",
        "\n",
        "  corpus_arr = corpus_type.toarray()\n",
        "  cos_sim = cosine_similarity(corpus_arr, [corpus_arr[target_movie]])\n",
        "\n",
        "  sorted_arr = sorted(range(len(cos_sim)), key = lambda k : cos_sim[k], reverse=True)\n",
        "\n",
        "  recommendations = []\n",
        "  for i in range(max_recommendations):\n",
        "    recommendations.append((sorted_arr[i],titles[sorted_arr[i]][0],corpus[sorted_arr[i]][:45]+\" ...\",categories[sorted_arr[i]][0][:]))\n",
        "  \n",
        "  print(tabulate(recommendations,headers=[\"Movie_ID\",\"Title\", \"Corpus\",\"Categories\"]))"
      ]
    },
    {
      "cell_type": "code",
      "execution_count": null,
      "metadata": {
        "colab": {
          "base_uri": "https://localhost:8080/"
        },
        "id": "tVzsYMToikwJ",
        "outputId": "e4bfcbfd-c511-4aa4-a687-0f0f00f2d7f8"
      },
      "outputs": [
        {
          "name": "stdout",
          "output_type": "stream",
          "text": [
            "  Movie_ID  Title             Corpus                                             Categories\n",
            "----------  ----------------  -------------------------------------------------  -----------------------------------------------------------------------------------------------------\n",
            "        17  Dogora            As an amorphous alien lifeform annihilated a  ...  \"Science Fiction\",  \"Japanese Movies\",  \"Creature Film\",  \"World cinema\"\n",
            "      2416  Rodan             In the small mining village of Kitamatsu, on  ...  \"Monster movie\",  \"Science Fiction\",  \"Horror\",  \"World cinema\",  \"Creature Film\",  \"Japanese Movies\"\n",
            "      1653  The Animatrix     The plot-summaries of the shorts are listed b ...  \"Science Fiction\",  \"Japanese Movies\",  \"Adventure\",  \"Animation\",  \"Anime\",  \"Drama\",  \"Action\"\n",
            "       423  Executive Action  The movie starts with a voice over stating th ...  \"Crime Fiction\",  \"Action/Adventure\",  \"Drama\",  \"Political thriller\",  \"Action\",  \"Political drama\"\n",
            "      4712  Days of Darkness  After a comet passes near the earth, most of  ...  \"Zombie Film\",  \"Horror\"\n",
            "      2705  The Final Terror  A group of young forest rangers and their gir ...  \"B-movie\",  \"Horror\",  \"Slasher\",  \"Teen\"\n",
            "      4165  Apaches           At the start of the film the narrator, Danny  ...  \"Education\",  \"Short Film\",  \"Western\",  \"Children's\",  \"Drama\"\n",
            "      3046  Bad Lieutenant    The film opens in the Bronx, where The Lieute ...  \"Crime Fiction\",  \"Thriller\",  \"Drama\",  \"Crime Drama\"\n",
            "      1023  Memphis Belle     In May 1943, the crew of the Memphis Belle, a ...  \"Combat Films\",  \"War film\",  \"Drama\",  \"Japanese Movies\",  \"Airplanes and airports\"\n",
            "      4521  The Thing         A United States Air Force re-supply crew is d ...  \"Monster movie\",  \"Therimin music\",  \"Science Fiction\",  \"Horror\"\n"
          ]
        }
      ],
      "source": [
        "content_recommender(17,10,corpus_tf_idf_plain)"
      ]
    },
    {
      "cell_type": "markdown",
      "metadata": {
        "id": "ElZktE8nrP7c"
      },
      "source": [
        "## Βελτιστοποίηση του TfidfVectorizer"
      ]
    },
    {
      "cell_type": "markdown",
      "metadata": {
        "id": "JHc3jIwrBOiw"
      },
      "source": [
        "Για την εύρεση των καλύτερων τιμών των παραμέτρων της TfidfVectorizer, θα πρέπει για κάθε τιμή να συγκρίνουμε τις ταινίες που προτείνει το σύστημα συστάσεων, και να καταλήξουμε σε αυτές που θεωρούμε πιο σχετικές μεταξύ τους. Δοκιμάζοντας αρκετές διαφορετικές τιμές, και διαφορετικές παραμέτρους, παρατηρούμε ότι στις περισσότερες περιπτώσεις, οι ταινίες που προτείνονται είναι αρκετά παρόμοιες με την αρχική ταινία-στόχο. Όμως υπάρχουν και ταινίες στόχοι των οποίων η κατηγοροποίηση δεν είναι τόσο εύκολη και επομένως οι συστάσεις έχουν αρκετά μεγάλη απόκλιση. <br>\n"
      ]
    },
    {
      "cell_type": "markdown",
      "metadata": {
        "id": "lHpEuca8rNwa"
      },
      "source": [
        "## Βαθιά μάθηση: δημιουργία corpora με χρήση word embeddings"
      ]
    },
    {
      "cell_type": "code",
      "execution_count": null,
      "metadata": {
        "id": "44hdxfbmBOiw",
        "outputId": "c2b961b4-1f43-4f35-e8ef-8096592cc6d4"
      },
      "outputs": [
        {
          "name": "stdout",
          "output_type": "stream",
          "text": [
            "['fasttext-wiki-news-subwords-300', 'conceptnet-numberbatch-17-06-300', 'word2vec-ruscorpora-300', 'word2vec-google-news-300', 'glove-wiki-gigaword-50', 'glove-wiki-gigaword-100', 'glove-wiki-gigaword-200', 'glove-wiki-gigaword-300', 'glove-twitter-25', 'glove-twitter-50', 'glove-twitter-100', 'glove-twitter-200', '__testing_word2vec-matrix-synopsis']\n"
          ]
        }
      ],
      "source": [
        "print(list(gensim.downloader.info()['models'].keys())) "
      ]
    },
    {
      "cell_type": "code",
      "execution_count": null,
      "metadata": {
        "id": "T1lIZDO8BOix"
      },
      "outputs": [],
      "source": [
        "#twitter50 = gensim.downloader.load(\"glove-twitter-50\")\n",
        "#joblib.dump(twitter50, 'model_twitter-50')"
      ]
    },
    {
      "cell_type": "code",
      "execution_count": null,
      "metadata": {
        "id": "DYubSiqcBOix",
        "outputId": "e108812e-bb17-4e30-de69-df8d23d948e9"
      },
      "outputs": [
        {
          "data": {
            "text/plain": [
              "(1193514, 50)"
            ]
          },
          "execution_count": 30,
          "metadata": {},
          "output_type": "execute_result"
        }
      ],
      "source": [
        "twitter50 = joblib.load('model_twitter-50')\n",
        "twitter50.vectors.shape"
      ]
    },
    {
      "cell_type": "code",
      "execution_count": null,
      "metadata": {
        "id": "5kBqjQYgrWmJ"
      },
      "outputs": [],
      "source": [
        "def build_tfw2v(corpus, vectors, embeddings_size):\n",
        "    vectorizer = TfidfVectorizer()\n",
        "    corpus_tf_idf = vectorizer.fit_transform(corpus).toarray()\n",
        "    vocab = vectorizer.vocabulary_\n",
        "\n",
        "    # Split\n",
        "    corpus_split = [d.split() for d in corpus]\n",
        "\n",
        "    #w2v = np.array((corpus.shape[0], embeddings_size))\n",
        "    w2v = []\n",
        "    missed_words = []\n",
        "    for idx, description in enumerate(corpus_split):\n",
        "        nom = 0\n",
        "        denom = 0\n",
        "        for word in description:\n",
        "            # Skip words that are not in the embeddings\n",
        "            if word in vectors:\n",
        "                word_index = vocab[word]\n",
        "                tf_idf = corpus_tf_idf[idx][word_index]\n",
        "                nom += tf_idf * vectors[word]\n",
        "                denom += tf_idf\n",
        "            else: \n",
        "                missed_words.append(word)\n",
        "        w2v.append(nom * 1/denom)\n",
        "    return sparse.csr_matrix(np.array(w2v)), missed_words"
      ]
    },
    {
      "cell_type": "code",
      "execution_count": null,
      "metadata": {
        "id": "wwnMtvZWBOix",
        "outputId": "95c801a9-5b12-42be-decf-3cc5559a03ca"
      },
      "outputs": [
        {
          "data": {
            "text/plain": [
              "(5000, 50)"
            ]
          },
          "execution_count": 32,
          "metadata": {},
          "output_type": "execute_result"
        }
      ],
      "source": [
        "w2v, missed = build_tfw2v(corpus_preprocessed, twitter50, 50)\n",
        "w2v.shape"
      ]
    },
    {
      "cell_type": "code",
      "execution_count": null,
      "metadata": {
        "id": "K3Gv4gmnBOiy",
        "outputId": "fd5355bc-c708-40b6-8d30-7033b2524372"
      },
      "outputs": [
        {
          "data": {
            "text/plain": [
              "36586"
            ]
          },
          "execution_count": 33,
          "metadata": {},
          "output_type": "execute_result"
        }
      ],
      "source": [
        "len(missed)"
      ]
    },
    {
      "cell_type": "markdown",
      "metadata": {
        "id": "nN2IB-F5BOiy"
      },
      "source": [
        "## Ανάλυση Αποτελεσμάτων"
      ]
    },
    {
      "cell_type": "markdown",
      "metadata": {
        "id": "cYxVuTl4BOiy"
      },
      "source": [
        "### Σύστημα συστάσεων βασισμένο μόνο στο TF IDF"
      ]
    },
    {
      "cell_type": "markdown",
      "metadata": {
        "id": "YrxM0I9aBOiy"
      },
      "source": [
        "Παρακάτω εκτελείται ο αλγόριθμος για τις ταινίες με ID = 5 και 17 και επιστρέφει ικανοποιητικά αποτελέσματα. <br>\n",
        "Για την ταινία \"Alms for a Blind Horse\", είναι πολύ εύκολο να διαπιστώσουμε ότι οι προτείνομενες ταινίες είναι αρκετά παρόμοιες, αφού σχεδόν όλες είναι \"Drama\". <br>\n",
        "\n"
      ]
    },
    {
      "cell_type": "code",
      "execution_count": null,
      "metadata": {
        "id": "8BsbGJ-hBOiz",
        "outputId": "6263d4a1-f8f7-495f-9003-ec2b6dbb30b9"
      },
      "outputs": [
        {
          "name": "stdout",
          "output_type": "stream",
          "text": [
            "(5000, 7239)\n",
            "  Movie_ID  Title                         Corpus                                             Categories\n",
            "----------  ----------------------------  -------------------------------------------------  ---------------------------------------------------------------------------------\n",
            "         5  Alms for a Blind Horse        The film is set in a village in the outskirts ...  \"Drama\"\n",
            "      4599  Mannu                         Mannu is about the struggle between Damu, a t ...  \"Drama\"\n",
            "       375  Silver Stallion               Soldiers with the U.N. forces that entered Ko ...  \"Western\",  \"Drama\",  \"Adventure\"\n",
            "      1191  Boni                          DD  Chinna  are two close friends who are bro ...  \"Romance Film\",  \"Action\",  \"Adventure\",  \"Comedy\"\n",
            "      1153  Kannezhuthi Pottum Thottu     A young woman named Bhadra  wants to take rev ...  \"Drama\"\n",
            "      1188  Summer 2007                   Rahul , Priyanka , Qateel , Bagani  and Visha ...  \"Thriller\",  \"Crime Fiction\",  \"World cinema\",  \"Musical\",  \"Drama\",  \"Bollywood\"\n",
            "      1709  Throne of Death               Krishnan is an out-of-work seasonal farmer wh ...  \"Satire\",  \"Drama\",  \"Political drama\"\n",
            "      2906  Rafter Romance                Mary Carroll  is a young woman from upstate w ...  \"Romantic comedy\",  \"Romance Film\",  \"Comedy\",  \"Black-and-white\"\n",
            "      1716  Little Toys                   Sister Ye lives in a rural village, where eve ...  \"Silent film\",  \"Drama\",  \"War film\"\n",
            "      2470  The Tale Of The Bunny Picnic  The story is actually told by an elderly Bean ...  \"Musical\",  \"Family Film\"\n"
          ]
        }
      ],
      "source": [
        "vectorizer = TfidfVectorizer(lowercase=True,max_df=100,min_df=10,max_features=10000)\n",
        "vectorizer.fit(corpus)\n",
        "corpus_tf_idf_plain = vectorizer.transform(corpus)\n",
        "print(corpus_tf_idf_plain.shape)\n",
        "content_recommender(5,10,corpus_tf_idf_plain)"
      ]
    },
    {
      "cell_type": "markdown",
      "metadata": {
        "id": "Ff3xOuCIBOiz"
      },
      "source": [
        "Για την ταινία \"Dogora\" παρατητούμε ότι η κατηγορία \"Science Fiction\" χαρακτηρίζει μέχρι και την 10η σύσταση, ενώ οι \"Horror\",\"Thriller\",\"Creature Film\",\"Drama\" που χαρακτηρίζουν καλά τη ταινία-στόχο μας, εμφανίζονται πολύ συχνά στις προτεινόμενες ταινίες.<br>"
      ]
    },
    {
      "cell_type": "code",
      "execution_count": null,
      "metadata": {
        "id": "Mx4PTaQuBOiz",
        "outputId": "a2f7ab3a-4247-4026-c0e3-ec69885ffedb"
      },
      "outputs": [
        {
          "name": "stdout",
          "output_type": "stream",
          "text": [
            "(5000, 7239)\n",
            "  Movie_ID  Title                                                   Corpus                                             Categories\n",
            "----------  ------------------------------------------------------  -------------------------------------------------  ----------------------------------------------------------------------------------------\n",
            "        17  Dogora                                                  As an amorphous alien lifeform annihilated a  ...  \"Science Fiction\",  \"Japanese Movies\",  \"Creature Film\",  \"World cinema\"\n",
            "      1065  If Winter Comes                                         Set in the English village Penny Green in 193 ...  \"War film\"\n",
            "      4163  Creature                                                The film starts with Richland , who was sent ...   \"Thriller\",  \"Science Fiction\",  \"Horror\"\n",
            "       900  Dragon Fist Explosion!! If Gokū Can't Do It, Who Will?  The movie begins with a young boy on a dista ...   \"Japanese Movies\"\n",
            "      3850  Frankenstein vs. the Creature from Blood Cove           Mad Doctor Monroe Lazaroff seeks to create a  ...  \"Monster movie\",  \"Horror\",  \"Creature Film\",  \"Black-and-white\",  \"Monster\",  \"B-movie\"\n",
            "      4521  The Thing                                               A United States Air Force re-supply crew is d ...  \"Monster movie\",  \"Therimin music\",  \"Science Fiction\",  \"Horror\"\n",
            "      2627  Black August                                            The movie covers the last 14 months of George ...  \"Period piece\",  \"Biography\",  \"Drama\",  \"Political drama\"\n",
            "      3108  Shake, Rattle & Roll IV                                 Jodie is one of many female students who has ...   \"Horror\",  \"Comedy\",  \"Filipino Movies\"\n",
            "        93  Jaani Dushman                                           Jwala Prasad is to marry the girl of his drea ...  \"Drama\",  \"Horror\",  \"World cinema\"\n",
            "      1226  Nuremberg                                               At the close of World War II, Hermann Göring ...   \"Historical drama\",  \"Docudrama\"\n"
          ]
        }
      ],
      "source": [
        "vectorizer = TfidfVectorizer(lowercase=True,max_df=100,min_df=10,max_features=10000)\n",
        "vectorizer.fit(corpus)\n",
        "corpus_tf_idf_plain = vectorizer.transform(corpus)\n",
        "print(corpus_tf_idf_plain.shape)\n",
        "content_recommender(17,10,corpus_tf_idf_plain)"
      ]
    },
    {
      "cell_type": "markdown",
      "metadata": {
        "id": "1pbTQXO3BOiz"
      },
      "source": [
        "Για την ταινία με ID = 25 παρατηρούμε ότι δεν είναι παρόμοια με τις περισσότερες συστάσεις, αφού αυτή αποτελεί μια ρομαντική κωμωδία και οι υπόλοιπες κατα πλειονότητα είναι \"Horror\" και \"Thriller\""
      ]
    },
    {
      "cell_type": "code",
      "execution_count": null,
      "metadata": {
        "id": "LC6oXlG0BOiz",
        "outputId": "706fe281-52e7-4fab-d39f-607142a5372d"
      },
      "outputs": [
        {
          "name": "stdout",
          "output_type": "stream",
          "text": [
            "(5000, 7239)\n",
            "  Movie_ID  Title                           Corpus                                             Categories\n",
            "----------  ------------------------------  -------------------------------------------------  ------------------------------------------------------------------------------------------------------------------------------------\n",
            "        25  (Untitled)                      Set in the artsy Chelsea, this satirical film ...  \"Romantic comedy\",  \"Romance Film\",  \"Satire\",  \"Comedy\",  \"Indie\"\n",
            "      1844  The Nature of the Beast         The story is set in Southern California and  ...   \"Thriller\",  \"Horror\",  \"Psychological thriller\",  \"Mystery\",  \"Drama\",  \"War film\",  \"Crime Thriller\",  \"Action\",  \"Spy\"\n",
            "       709  33 Scenes from Life             The Polish artist Julia and her husband Piotr ...  \"Drama\"\n",
            "      1874  The Bride of the Regiment       As they are emerging from the church followin ...  \"Musical\",  \"Pre-Code\"\n",
            "      2685  Pulse                           When Josh Ockmann  enters a dark university l ...  \"Horror\",  \"Psychological thriller\",  \"Teen\"\n",
            "       243  Josh and S.A.M.                 The film is a road-trip themed dark comedy ab ...  \"Road movie\",  \"Comedy\",  \"Coming of age\",  \"Adventure\",  \"Children's/Family\"\n",
            "      1616  Road to Singapore               Josh Mallon  and Ace Lannigan  are best frien ...  \"Buddy film\",  \"Adventure\",  \"Screwball comedy\",  \"Black-and-white\",  \"Action/Adventure\",  \"Musical\",  \"Adventure Comedy\",  \"Comedy\"\n",
            "      1490  The Housemaid                   The film is a domestic horror thriller tellin ...  \"Crime Fiction\",  \"Drama\",  \"Horror\",  \"Thriller\"\n",
            "      4651  A Midsummer Night's Sex Comedy  It is the early 1900s. Distinguished philosop ...  \"Romantic comedy\",  \"Ensemble Film\",  \"Sex comedy\",  \"Comedy\",  \"Parody\",  \"Romance Film\"\n",
            "      2466  The Ambulance                   Aspiring comic book artist Josh Baker  meets  ...  \"Thriller\",  \"Psychological thriller\"\n"
          ]
        }
      ],
      "source": [
        "vectorizer = TfidfVectorizer(lowercase=True,max_df=100,min_df=10,max_features=10000)\n",
        "vectorizer.fit(corpus)\n",
        "corpus_tf_idf_plain = vectorizer.transform(corpus)\n",
        "print(corpus_tf_idf_plain.shape)\n",
        "content_recommender(25,10,corpus_tf_idf_plain)"
      ]
    },
    {
      "cell_type": "code",
      "execution_count": null,
      "metadata": {
        "id": "CETEm0p1BOi0"
      },
      "outputs": [],
      "source": [
        "corpus_preprocessed_ = [stemSentence(d) for d in corpus_preprocessed]\n",
        "corpus_preprocessed_ = np.array(corpus_preprocessed_)"
      ]
    },
    {
      "cell_type": "code",
      "execution_count": null,
      "metadata": {
        "id": "6TP0hFpEBOi0",
        "outputId": "ea702b9b-03eb-4ae1-fbb3-62141b164c21"
      },
      "outputs": [
        {
          "name": "stdout",
          "output_type": "stream",
          "text": [
            "  Movie_ID  Title                           Corpus                                             Categories\n",
            "----------  ------------------------------  -------------------------------------------------  ------------------------------------------------------------------------------------------------------------------------------------\n",
            "        25  (Untitled)                      Set in the artsy Chelsea, this satirical film ...  \"Romantic comedy\",  \"Romance Film\",  \"Satire\",  \"Comedy\",  \"Indie\"\n",
            "      1844  The Nature of the Beast         The story is set in Southern California and  ...   \"Thriller\",  \"Horror\",  \"Psychological thriller\",  \"Mystery\",  \"Drama\",  \"War film\",  \"Crime Thriller\",  \"Action\",  \"Spy\"\n",
            "      1874  The Bride of the Regiment       As they are emerging from the church followin ...  \"Musical\",  \"Pre-Code\"\n",
            "       709  33 Scenes from Life             The Polish artist Julia and her husband Piotr ...  \"Drama\"\n",
            "      4651  A Midsummer Night's Sex Comedy  It is the early 1900s. Distinguished philosop ...  \"Romantic comedy\",  \"Ensemble Film\",  \"Sex comedy\",  \"Comedy\",  \"Parody\",  \"Romance Film\"\n",
            "      1616  Road to Singapore               Josh Mallon  and Ace Lannigan  are best frien ...  \"Buddy film\",  \"Adventure\",  \"Screwball comedy\",  \"Black-and-white\",  \"Action/Adventure\",  \"Musical\",  \"Adventure Comedy\",  \"Comedy\"\n",
            "      2685  Pulse                           When Josh Ockmann  enters a dark university l ...  \"Horror\",  \"Psychological thriller\",  \"Teen\"\n",
            "      2466  The Ambulance                   Aspiring comic book artist Josh Baker  meets  ...  \"Thriller\",  \"Psychological thriller\"\n",
            "       243  Josh and S.A.M.                 The film is a road-trip themed dark comedy ab ...  \"Road movie\",  \"Comedy\",  \"Coming of age\",  \"Adventure\",  \"Children's/Family\"\n",
            "      2638  Reservation Road                Dwight Arno , is an attorney who is divorced  ...  \"Crime Fiction\",  \"Crime Thriller\",  \"Drama\",  \"Thriller\",  \"Film adaptation\"\n"
          ]
        }
      ],
      "source": [
        "vectorizer = TfidfVectorizer(lowercase=True,max_df=100,min_df=10,max_features=1000)\n",
        "vectorizer.fit(corpus_preprocessed_)\n",
        "corpus_tf_idf_plain_ = vectorizer.transform(corpus_preprocessed_)\n",
        "\n",
        "content_recommender(25,10,corpus_tf_idf_plain_)"
      ]
    },
    {
      "cell_type": "markdown",
      "metadata": {
        "id": "2FUFN-AmBOi0"
      },
      "source": [
        "Όταν εφαρμόζουμε stemming πάνω στο corpus, παρατηρούμε μία μικρή βελτίωση στις συστάσεις, όμως ακόμη υπάρχουν ταινίες-στόχοι για τις οποίες οι συστάσεις δεν είναι σχετικές."
      ]
    },
    {
      "cell_type": "markdown",
      "metadata": {
        "id": "_kDmq6bXBOi0"
      },
      "source": [
        "Από τα παραπάνω αποτελέσματα μπορούμε να αναγνωρίσουμε τα πλεονεκτήματα και τα μειονεκτήματα ενός recommender βασισμένο στο tfidf. Αρχικά, με τον tfidf είναι πολύ απλή η προεπεξεργασία του corpus, δίνοντας μας πολλές διαφορετικές επιλογές και παραμέτρους, που βοηθάνε σε αυτή τη διαδικασία. Ακόμη, κάνοντας rescale την συχνότητα με την οποία εμφανίζονται οι λέξεις που κυριαρχούν στο corpus (πχ \"The\") δίνει σημασία στις λέξεις που επηρεάζουν την σημασία της περιγραφής. Ωστόσο αγνοεί την σημασιολογική σχέση των λέξεων, που στη δικιά μας περίπτωση, είναι αυτό που ζητάμε, και σε αυτό βασιζόμαστε για να ελέγξουμε αν οι συστάσεις είναι σωστές. Αυτός είναι και ο λόγος που για ορισμένες ταινίες-στόχους οι συστάσεις είναι λανθασμένες, αφού αγνοείται η σημασία μίας λέξης που χρησιμοποιείται και ελέγχεται μόνο η ύπαρξη της."
      ]
    },
    {
      "cell_type": "markdown",
      "metadata": {
        "id": "qwIjJ326BOi0"
      },
      "source": [
        "### Σύγκριση και σχολιασμός με recommenders βασισμένων στο Word2Vec"
      ]
    },
    {
      "cell_type": "code",
      "execution_count": null,
      "metadata": {
        "id": "VfuxaBLpBOi1",
        "outputId": "66c7a1ea-c3cd-4a62-fec7-9be991560862"
      },
      "outputs": [
        {
          "name": "stdout",
          "output_type": "stream",
          "text": [
            "  Movie_ID  Title                               Corpus                                             Categories\n",
            "----------  ----------------------------------  -------------------------------------------------  -----------------------------------------------------------------------------------------------------------------------------------\n",
            "        25  (Untitled)                          Set in the artsy Chelsea, this satirical film ...  \"Romantic comedy\",  \"Romance Film\",  \"Satire\",  \"Comedy\",  \"Indie\"\n",
            "      3873  Jubilee                             In Jubilee, Queen Elizabeth I  is transported ...  \"Fantasy\",  \"Time travel\",  \"Experimental film\",  \"Punk rock\",  \"Indie\"\n",
            "      3070  Topkapi                             The film opens with Elizabeth Lipp  visiting ...   \"Crime Fiction\",  \"Heist\",  \"Crime Comedy\",  \"Caper story\",  \"Action/Adventure\",  \"Drama\",  \"Comedy\",  \"Film adaptation\",  \"Action\"\n",
            "      1816  Follow That Camel                   His reputation brought into disrepute by Capt ...  \"Parody\",  \"Comedy\"\n",
            "      1403  Wildness of Youth                   Spoiled son Andrew Kane  competes with James  ...  \"Silent film\"\n",
            "       227  You Will Meet a Tall Dark Stranger  Alfie  and Helena  divorce. Helena begins see ...  \"Romantic comedy\",  \"Ensemble Film\",  \"Indie\",  \"Comedy-drama\",  \"Drama\",  \"Comedy\",  \"Romantic drama\",  \"Romance Film\"\n",
            "      3198  Best Defense                        The movie takes place as two parallel plots s ...  \"Action/Adventure\",  \"Action\",  \"Comedy\",  \"Spy\"\n",
            "      4631  Operation C.I.A.                    Secret Agent Mark Andrews is sent to Saigon w ...  \"Thriller\",  \"Drama\",  \"Black-and-white\",  \"Spy\"\n",
            "      1271  Tora's Tropical Fever               Lily, the lounge singer with whom Tora-san fe ...  \"Japanese Movies\"\n",
            "      4989  Romance of Celluloid                The film starts with a brief look at cotton b ...  \"Short Film\",  \"Documentary\"\n"
          ]
        }
      ],
      "source": [
        "content_recommender(25, 10, w2v)"
      ]
    },
    {
      "cell_type": "markdown",
      "metadata": {
        "id": "UomVYdffBOi1"
      },
      "source": [
        "Παρατηρούμε ότι σε όλες τι περιπτώσεις που μπορέσαμε να ελέγξουμε, οι ταινίες που συστήνει το σύστημα μας (βασισμένο στο W2V) είναι πάντα παρόμοιες μεταξύ τους. Παραπάνω φαίνεται η ταινία με ID = 25 στην οποία ο recommender βασισμένος μόνο στο tfidf αποτύγχανε να προτείνει σχετικές ταινίες. <br>"
      ]
    }
  ],
  "metadata": {
    "colab": {
      "name": "Lab2_T13_Part1.ipynb",
      "provenance": [],
      "collapsed_sections": [
        "ElZktE8nrP7c",
        "lHpEuca8rNwa",
        "cYxVuTl4BOiy"
      ]
    },
    "kernelspec": {
      "display_name": "Python 3",
      "name": "python3"
    },
    "language_info": {
      "codemirror_mode": {
        "name": "ipython",
        "version": 3
      },
      "file_extension": ".py",
      "mimetype": "text/x-python",
      "name": "python",
      "nbconvert_exporter": "python",
      "pygments_lexer": "ipython3",
      "version": "3.8.10"
    }
  },
  "nbformat": 4,
  "nbformat_minor": 0
}